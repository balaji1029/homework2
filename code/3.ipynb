{
 "cells": [
  {
   "cell_type": "markdown",
   "id": "61a4b7d6",
   "metadata": {},
   "source": [
    "# Fitting Data"
   ]
  },
  {
   "cell_type": "markdown",
   "id": "5ad87eed",
   "metadata": {},
   "source": [
    "Imports used..."
   ]
  },
  {
   "cell_type": "code",
   "execution_count": 2,
   "id": "38356e79",
   "metadata": {},
   "outputs": [
    {
     "name": "stderr",
     "output_type": "stream",
     "text": [
      "/usr/lib/python3/dist-packages/scipy/__init__.py:146: UserWarning: A NumPy version >=1.17.3 and <1.25.0 is required for this version of SciPy (detected version 1.26.4\n",
      "  warnings.warn(f\"A NumPy version >={np_minversion} and <{np_maxversion}\"\n"
     ]
    }
   ],
   "source": [
    "import matplotlib.pyplot as plt\n",
    "import numpy as np\n",
    "import pandas as pd\n",
    "from scipy.optimize import fsolve\n",
    "from scipy.stats import binom\n",
    "from scipy.stats import gamma\n",
    "from scipy.stats import norm\n",
    "from scipy.special import comb"
   ]
  },
  {
   "cell_type": "markdown",
   "id": "aeb97b38",
   "metadata": {},
   "source": [
    "Reading the data from `3.data`"
   ]
  },
  {
   "cell_type": "code",
   "execution_count": 4,
   "id": "58b9b021",
   "metadata": {},
   "outputs": [],
   "source": [
    "data = np.loadtxt('3.data')\n",
    "length = np.shape(data)[0]"
   ]
  },
  {
   "cell_type": "markdown",
   "id": "80fbc38b",
   "metadata": {},
   "source": [
    "## Task A"
   ]
  },
  {
   "cell_type": "markdown",
   "id": "9cb4c4df",
   "metadata": {},
   "source": [
    "Calculating the $\\mu_1$ and $\\mu_2$"
   ]
  },
  {
   "cell_type": "code",
   "execution_count": 5,
   "id": "3bce491f",
   "metadata": {},
   "outputs": [
    {
     "data": {
      "text/plain": [
       "6.496145618324817"
      ]
     },
     "execution_count": 5,
     "metadata": {},
     "output_type": "execute_result"
    }
   ],
   "source": [
    "moment1 = np.sum(data)/length\n",
    "moment1"
   ]
  },
  {
   "cell_type": "code",
   "execution_count": 6,
   "id": "ea50f2a3",
   "metadata": {},
   "outputs": [
    {
     "data": {
      "text/plain": [
       "46.554361807879815"
      ]
     },
     "execution_count": 6,
     "metadata": {},
     "output_type": "execute_result"
    }
   ],
   "source": [
    "moment2 = np.sum(data**2)/length\n",
    "moment2"
   ]
  },
  {
   "cell_type": "markdown",
   "id": "8caeb9ed",
   "metadata": {},
   "source": [
    "$\\mu_1 = 6.496121071257862$ and $\\mu_2 = 46.55447234919477$"
   ]
  },
  {
   "cell_type": "markdown",
   "id": "f624f180",
   "metadata": {},
   "source": [
    "## Task B"
   ]
  },
  {
   "cell_type": "markdown",
   "id": "00a036f2",
   "metadata": {},
   "source": [
    "Dividing the data into bins and plotting them as a histogram gives the following plot"
   ]
  },
  {
   "cell_type": "code",
   "execution_count": 5,
   "id": "0aa9acaa",
   "metadata": {},
   "outputs": [
    {
     "data": {
      "image/png": "[encoded data removed]",
      "text/plain": [
       "<Figure size 432x288 with 1 Axes>"
      ]
     },
     "metadata": {
      "needs_background": "light"
     },
     "output_type": "display_data"
    }
   ],
   "source": [
    "plt.hist(data, bins=100, density=True)\n",
    "plt.savefig('../images/3b.png')\n",
    "plt.show()"
   ]
  },
  {
   "cell_type": "markdown",
   "id": "7d193338",
   "metadata": {},
   "source": [
    "## Task C"
   ]
  },
  {
   "cell_type": "markdown",
   "id": "d1e7f176",
   "metadata": {},
   "source": [
    "For $X \\sim Bin(n, p)$, <br> <br>\n",
    "<div style='text-align: center;'>\n",
    "    $\\mu_1^{Bin} = \\sum_{r=0}^{n} \\binom{n}{r}p^r (1-p)^{n-r} r$ <br>\n",
    "    $\\mu_1^{Bin} = np$ <br> <br>\n",
    "    $\\mu_2^{Bin} = \\sum_{r=0}^{n} \\binom{n}{r}p^r (1-p)^{n-r} r^2$ <br>\n",
    "    $\\mu_2^{Bin} = np\\sum_{r=1}^{n} \\binom{n-1}{r-1}p^{r-1} (1-p)^{n-r} r$ <br>\n",
    "    $\\mu_2^{Bin} = np\\sum_{r=0}^{n-1} \\binom{n-1}{r}p^{r} (1-p)^{n-r-1} (r+1)$ <br>\n",
    "    $\\mu_2^{Bin} = n(n-1)p^2 + np\\sum_{r=0}^{n-1} \\binom{n-1}{r}p^{r} (1-p)^{n-r-1}$ <br>\n",
    "    $\\mu_2^{Bin} = n(n-1)p^2 + np$\n",
    "</div> <br>\n",
    "$\\implies \\mu_1^{Bin} = np$ and $\\mu_2^{Bin} = n(n-1)p^2 + np$ <br>\n",
    "Using the equations to approximate $\\left(n^\\ast, p^\\ast\\right)$"
   ]
  },
  {
   "cell_type": "code",
   "execution_count": 6,
   "id": "020e0f82",
   "metadata": {},
   "outputs": [],
   "source": [
    "def binom_app(x):\n",
    "    return [x[0]*x[1] - moment1,\n",
    "            x[0]*(x[0]-1)*x[1]*x[1] + x[0]*x[1] - moment2]"
   ]
  },
  {
   "cell_type": "code",
   "execution_count": 7,
   "id": "f441e9f1",
   "metadata": {},
   "outputs": [
    {
     "data": {
      "text/plain": [
       "([0.09758497442649361, 1.3427877581668284],\n",
       " [0.4272715040640591, 6.020202600782845],\n",
       " (20, 0.32968652963756556))"
      ]
     },
     "execution_count": 7,
     "metadata": {},
     "output_type": "execute_result"
    }
   ],
   "source": [
    "n, p = tuple(fsolve(binom_app, [1,1]))\n",
    "n = round(n)\n",
    "binom_app([n, p]), binom_app([n+1, p]), (n, p)"
   ]
  },
  {
   "cell_type": "markdown",
   "id": "16817f5f",
   "metadata": {},
   "source": [
    "$n^\\ast = 20$ and $p^\\ast = 0.32961788596852243$ approximate the moments better."
   ]
  },
  {
   "cell_type": "code",
   "execution_count": 8,
   "id": "babdc745",
   "metadata": {},
   "outputs": [],
   "source": [
    "x = np.linspace(0, 30, 31)\n",
    "binom_data = binom.pmf(x, n, p)"
   ]
  },
  {
   "cell_type": "code",
   "execution_count": 9,
   "id": "39482cd4",
   "metadata": {},
   "outputs": [
    {
     "data": {
      "image/png": "[encoded data removed]",
      "text/plain": [
       "<Figure size 432x288 with 1 Axes>"
      ]
     },
     "metadata": {
      "needs_background": "light"
     },
     "output_type": "display_data"
    }
   ],
   "source": [
    "plt.plot(x, binom_data, color='red')\n",
    "plt.hist(data, bins=100, density=True)\n",
    "plt.legend(['binom(n, p)', 'data'])\n",
    "plt.ylabel('p(x)')\n",
    "plt.xlabel('x')\n",
    "# plt.savefig('../images/3c.png')\n",
    "plt.show()"
   ]
  },
  {
   "cell_type": "markdown",
   "id": "c119a656",
   "metadata": {},
   "source": [
    "## Task D"
   ]
  },
  {
   "cell_type": "markdown",
   "id": "2eb7a882",
   "metadata": {},
   "source": [
    "For $X \\sim Gamma(k, \\theta)$, <br><br>\n",
    "<div style='text-align: center;'>\n",
    "    $\\mu_1^{Gamma} = \\int_0^\\infty f(x;k,\\theta)xdx$ <br>\n",
    "    $\\mu_1^{Gamma} = \\int_0^\\infty \\frac{1}{\\theta^k \\Gamma(k)} x^{k-1} e^{-\\frac{x}{\\theta}}xdx$ <br>\n",
    "    $\\mu_1^{Gamma} = \\frac{\\theta^{k+1}\\Gamma(k+1)}{\\theta^k\\Gamma(k)}$ <br>\n",
    "    $\\mu_1^{Gamma} = k\\theta$\n",
    "</div> <br>\n",
    "<div style='text-align: center;'>\n",
    "    $\\mu_2^{Gamma} = \\int_0^\\infty f(x;k,\\theta)x^2dx$ <br>\n",
    "    $\\mu_2^{Gamma} = \\int_0^\\infty \\frac{1}{\\theta^k \\Gamma(k)} x^{k-1} e^{-\\frac{x}{\\theta}}x^2dx$ <br>\n",
    "    $\\mu_2^{Gamma} = \\frac{\\theta^{k+2}\\Gamma(k+2)}{\\theta^k\\Gamma(k)}$ <br>\n",
    "    $\\mu_2^{Gamma} = k(k+1)\\theta^2$\n",
    "</div> <br>\n",
    "$\\implies \\mu_1^{Gamma} = k\\theta$ and $\\mu_2^{Gamma} = k(k+1)\\theta^2$ <br>\n",
    "Using the equations to approximate $\\left(n^\\ast, p^\\ast\\right)$"
   ]
  },
  {
   "cell_type": "code",
   "execution_count": 10,
   "id": "2506f99d",
   "metadata": {},
   "outputs": [],
   "source": [
    "def gamma_app(x):\n",
    "    return [x[0]*x[1] - moment1,\n",
    "            x[0]*(x[0]+1)*x[1]*x[1] - moment2]"
   ]
  },
  {
   "cell_type": "code",
   "execution_count": 11,
   "id": "f2225c65",
   "metadata": {},
   "outputs": [
    {
     "data": {
      "text/plain": [
       "(9.691205541246195, 0.6703134703624295)"
      ]
     },
     "execution_count": 11,
     "metadata": {},
     "output_type": "execute_result"
    }
   ],
   "source": [
    "k, theta = fsolve(gamma_app, [1, 1])\n",
    "k, theta"
   ]
  },
  {
   "cell_type": "markdown",
   "id": "6abed810",
   "metadata": {},
   "source": [
    "$k^\\ast = 9.690176595240318$ and ${\\theta}^{\\ast} = 0.6703821140314945$"
   ]
  },
  {
   "cell_type": "code",
   "execution_count": 12,
   "id": "32da7d9d",
   "metadata": {},
   "outputs": [],
   "source": [
    "x1 = np.linspace(0, 30, 1000)\n",
    "gamma_data = gamma.pdf(x1, k, scale=theta)"
   ]
  },
  {
   "cell_type": "code",
   "execution_count": 13,
   "id": "a35678d2",
   "metadata": {},
   "outputs": [
    {
     "data": {
      "image/png": "[encoded data removed]",
      "text/plain": [
       "<Figure size 432x288 with 1 Axes>"
      ]
     },
     "metadata": {
      "needs_background": "light"
     },
     "output_type": "display_data"
    }
   ],
   "source": [
    "plt.plot(x1, gamma_data, color='red')\n",
    "plt.hist(data, bins=100, density=True)\n",
    "plt.legend([r'$\\Gamma(k,\\theta)$', 'data'])\n",
    "plt.ylabel('p(x)')\n",
    "plt.xlabel('x')\n",
    "# plt.savefig('../images/3d.png')\n",
    "plt.show()"
   ]
  },
  {
   "cell_type": "markdown",
   "id": "5b6bfc98",
   "metadata": {},
   "source": [
    "## Task E"
   ]
  },
  {
   "cell_type": "markdown",
   "id": "d6cfd6ce",
   "metadata": {},
   "source": [
    "Likelihood of an assumed dataset $\\mathcal{L}(\\lambda_0 \\mid S) := P_{\\lambda_0}[S] = \\prod_{i=1}^{n} P_{\\lambda_0}[X_i]$ <br> <br>\n",
    "Average log-likelihood $\\ell(\\theta \\mid S) := \\frac{\\log \\mathcal{L}(\\theta \\mid S)}{n}$"
   ]
  },
  {
   "cell_type": "code",
   "execution_count": 14,
   "id": "8b538314",
   "metadata": {},
   "outputs": [
    {
     "data": {
      "text/plain": [
       "-2.1570681154346794"
      ]
     },
     "execution_count": 14,
     "metadata": {},
     "output_type": "execute_result"
    }
   ],
   "source": [
    "binom_likelihood = np.sum(binom.logpmf(np.round(data), n, p))/length\n",
    "binom_likelihood"
   ]
  },
  {
   "cell_type": "code",
   "execution_count": 15,
   "id": "c6cd55c3",
   "metadata": {},
   "outputs": [
    {
     "data": {
      "text/plain": [
       "-2.1608217722067966"
      ]
     },
     "execution_count": 15,
     "metadata": {},
     "output_type": "execute_result"
    }
   ],
   "source": [
    "gaussian_likelihood = np.sum(gamma.logpdf(data, k, scale=theta))/length\n",
    "gaussian_likelihood"
   ]
  },
  {
   "cell_type": "markdown",
   "id": "b88dd6f1",
   "metadata": {},
   "source": [
    "Binomial Distribution has a higher likelihood than Gaussian Distribution. Hence the Binomial Distribution was a better fit."
   ]
  },
  {
   "cell_type": "markdown",
   "id": "cb190f68",
   "metadata": {},
   "source": [
    "## Task F"
   ]
  },
  {
   "cell_type": "code",
   "execution_count": 7,
   "id": "907c55cf",
   "metadata": {},
   "outputs": [
    {
     "data": {
      "text/plain": [
       "360.56586952543273"
      ]
     },
     "execution_count": 7,
     "metadata": {},
     "output_type": "execute_result"
    }
   ],
   "source": [
    "moment3 = np.sum(data**3)/length\n",
    "moment3"
   ]
  },
  {
   "cell_type": "code",
   "execution_count": 8,
   "id": "7815bea6",
   "metadata": {},
   "outputs": [
    {
     "data": {
      "text/plain": [
       "2968.068491427333"
      ]
     },
     "execution_count": 8,
     "metadata": {},
     "output_type": "execute_result"
    }
   ],
   "source": [
    "moment4 = np.sum(data**4)/length\n",
    "moment4"
   ]
  },
  {
   "cell_type": "markdown",
   "id": "8091516c",
   "metadata": {},
   "source": [
    "Given \n",
    "<div style='text-align: center;'>\n",
    "    $\\mu_1^{gmm} = p_1 \\mu_1 + p_2 \\mu_2$ <br>\n",
    "    $\\mu_2^{gmm} = p_1 (\\sigma_1^2 + \\mu_1^2 ) + p_2 (\\sigma_2^2 + \\mu_2^2)$ <br>\n",
    "    $\\mu_3^{gmm} = p_1 (\\mu_1^3 + 3\\mu_1 \\sigma_1^2 ) + p_2 (\\mu_2^3 + 3\\mu_2 \\sigma_2^2)$ <br>\n",
    "    $\\mu_4^{gmm} = p_1 (\\mu_1^4 + 6\\mu_1^2 \\sigma_1^2 + 3\\sigma_1^4 ) + p_2 (\\mu_2^4 + 6\\mu_2^2 \\sigma_2^2 + 3\\sigma_2^4)$\n",
    "</div>\n",
    "Using the equations to approximate $(\\mu_1^\\ast, p_1^\\ast, \\mu_2^\\ast, p_2^\\ast)$"
   ]
  },
  {
   "cell_type": "code",
   "execution_count": 18,
   "id": "bec1c055",
   "metadata": {},
   "outputs": [],
   "source": [
    "def gaussian_mixture_app(x):\n",
    "    return [x[1]*x[0]+x[3]*x[2] - moment1,\n",
    "            x[1]*(1+x[0]*x[0]) + x[3]*(1+x[2]*x[2]) - moment2,\n",
    "            x[1]*(x[0]*x[0]*x[0] + 3*x[0]) + x[3]*(x[2]*x[2]*x[2] + 3*x[2]) - moment3,\n",
    "            x[1]*(x[0]*x[0]*x[0]*x[0] + 6*x[0]*x[0] + 3) + x[3]*(x[2]*x[2]*x[2]*x[2] + 6*x[2]*x[2] + 3) - moment4]"
   ]
  },
  {
   "cell_type": "code",
   "execution_count": 19,
   "id": "670c15ae",
   "metadata": {},
   "outputs": [
    {
     "name": "stderr",
     "output_type": "stream",
     "text": [
      "/usr/lib/python3/dist-packages/scipy/optimize/_minpack_py.py:175: RuntimeWarning: The iteration is not making good progress, as measured by the \n",
      "  improvement from the last ten iterations.\n",
      "  warnings.warn(msg, RuntimeWarning)\n"
     ]
    },
    {
     "data": {
      "text/plain": [
       "(5.129607694285331, 0.6118740341610674, 8.774363054416453, 0.3826456511927511)"
      ]
     },
     "execution_count": 19,
     "metadata": {},
     "output_type": "execute_result"
    }
   ],
   "source": [
    "m1, p1, m2, p2 = fsolve(gaussian_mixture_app, [1, 1, 1, 1])\n",
    "m3 = 0\n",
    "while (m1 != m3):\n",
    "    m3 = m1\n",
    "    m1, p1, m2, p2 = fsolve(gaussian_mixture_app, [m1, p1, m2, p2])\n",
    "m1, p1, m2, p2"
   ]
  },
  {
   "cell_type": "markdown",
   "id": "5dca2b63",
   "metadata": {},
   "source": [
    "$\\mu_1^\\ast = 5.129442774945635, p_1^\\ast = 0.6118628674761679, \\mu_2^\\ast = 8.774442386057544$ and $p_2^\\ast = 0.38265742239756445$"
   ]
  },
  {
   "cell_type": "code",
   "execution_count": 20,
   "id": "233e5975",
   "metadata": {},
   "outputs": [],
   "source": [
    "x = np.linspace(0, 30, 1000)\n",
    "gaussian_mixture = p1 * norm.pdf(x, m1) + p2 * norm.pdf(x, m2)"
   ]
  },
  {
   "cell_type": "code",
   "execution_count": 21,
   "id": "d551a3cb",
   "metadata": {},
   "outputs": [
    {
     "data": {
      "image/png": "[encoded data removed]",
      "text/plain": [
       "<Figure size 432x288 with 1 Axes>"
      ]
     },
     "metadata": {
      "needs_background": "light"
     },
     "output_type": "display_data"
    }
   ],
   "source": [
    "plt.plot(x, gaussian_mixture, color='red')\n",
    "plt.hist(data, bins=100, density=True)\n",
    "plt.legend(['$p_1N(\\mu_1, 1) + p_2N(\\mu_2, 1)$', 'data'])\n",
    "plt.ylabel('p(x)')\n",
    "plt.xlabel('x')\n",
    "# plt.savefig('../images/3f.png')\n",
    "plt.show()"
   ]
  },
  {
   "cell_type": "code",
   "execution_count": 22,
   "id": "064e8399",
   "metadata": {},
   "outputs": [
    {
     "data": {
      "text/plain": [
       "-2.1830387449113173"
      ]
     },
     "execution_count": 22,
     "metadata": {},
     "output_type": "execute_result"
    }
   ],
   "source": [
    "gaussian_likelihood = np.sum(np.log(p1 * norm.pdf(data, m1) + p2 * norm.pdf(data, m2)))/length\n",
    "gaussian_likelihood"
   ]
  },
  {
   "cell_type": "markdown",
   "id": "492a7240",
   "metadata": {},
   "source": [
    "## Teaser"
   ]
  },
  {
   "cell_type": "code",
   "execution_count": 9,
   "id": "291ec53d",
   "metadata": {},
   "outputs": [
    {
     "data": {
      "text/plain": [
       "229554.97759417215"
      ]
     },
     "execution_count": 9,
     "metadata": {},
     "output_type": "execute_result"
    }
   ],
   "source": [
    "moment6 = np.sum(data**6)/length\n",
    "moment6"
   ]
  },
  {
   "cell_type": "code",
   "execution_count": 10,
   "id": "15c6c39e",
   "metadata": {},
   "outputs": [
    {
     "data": {
      "text/plain": [
       "25621.864941277425"
      ]
     },
     "execution_count": 10,
     "metadata": {},
     "output_type": "execute_result"
    }
   ],
   "source": [
    "moment5 = np.sum(data**5)/length\n",
    "moment5"
   ]
  },
  {
   "cell_type": "code",
   "execution_count": 25,
   "id": "476d03d6",
   "metadata": {},
   "outputs": [],
   "source": [
    "def gaussian_mixture_app(x):\n",
    "    return [\n",
    "        x[1] * x[0] + x[3] * x[2] - moment1,\n",
    "        x[1] * (x[4] * x[4] + x[0] * x[0]) + x[3] * (x[5] * x[5] + x[2] * x[2]) - moment2,\n",
    "        x[1] * (x[0] * x[0] * x[0] + 3 * x[0] * x[4] * x[4]) + x[3] * (x[2] * x[2] * x[2] + 3 * x[2] * x[5] * x[5]) - moment3,\n",
    "        x[1] * (x[0] * x[0] * x[0] * x[0] + 6 * x[0] * x[0] * x[4] * x[4] + 3 * x[4] * x[4] * x[4] * x[4]) + x[3] * (x[2] * x[2] * x[2] * x[2] + 6 * x[2] * x[2] * x[5] * x[5] + 3 * x[5] * x[5] * x[5] * x[5]) - moment4,\n",
    "        x[1] * (x[0] * x[0] * x[0] * x[0] * x[0] + 10 * x[0] * x[0] * x[0] * x[4] * x[4] + 9 * x[0] * x[4] * x[4] * x[4] * x[4]) + x[3] * (x[2] * x[2] * x[2] * x[2] * x[2] + 10 * x[2] * x[2] * x[2] * x[5] * x[5] + 9 * x[2] * x[5] * x[5] * x[5] * x[5]) - moment5,\n",
    "        x[1] * (x[0] * x[0] * x[0] * x[0] * x[0] * x[0] + 15 * x[0] * x[0] * x[0] * x[0] * x[4] * x[4] + 39 * x[0] * x[0] * x[4] * x[4] * x[4] * x[4] + 9 * x[4] * x[4] * x[4] * x[4] * x[4] * x[4]) + x[3] * (x[2] * x[2] * x[2] * x[2] * x[2] * x[2] + 15 * x[2] * x[2] * x[2] * x[2] * x[5] * x[5] + 39 * x[2] * x[2] * x[5] * x[5] * x[5] * x[5] + 9 * x[5] * x[5] * x[5] * x[5] * x[5] * x[5]) - moment6\n",
    "    ]\n"
   ]
  },
  {
   "cell_type": "code",
   "execution_count": 26,
   "id": "2311fa07",
   "metadata": {},
   "outputs": [
    {
     "name": "stderr",
     "output_type": "stream",
     "text": [
      "/usr/lib/python3/dist-packages/scipy/optimize/_minpack_py.py:175: RuntimeWarning: The iteration is not making good progress, as measured by the \n",
      "  improvement from the last ten iterations.\n",
      "  warnings.warn(msg, RuntimeWarning)\n"
     ]
    },
    {
     "data": {
      "text/plain": [
       "(1.0, 1.0, 1.0, 1.0, 1.0, 1.0)"
      ]
     },
     "execution_count": 26,
     "metadata": {},
     "output_type": "execute_result"
    }
   ],
   "source": [
    "m1, p1, m2, p2, sigma1, sigma2 = fsolve(gaussian_mixture_app, [1, 1, 1, 1, 1, 1])\n",
    "m3 = 0\n",
    "while (m1 != m3):\n",
    "    m3 = m1\n",
    "    m1, p1, m2, p2, sigma1, sigma2 = fsolve(gaussian_mixture_app, [m1, p1, m2, p2, sigma1, sigma2])\n",
    "m1, p1, m2, p2, sigma1, sigma2"
   ]
  },
  {
   "cell_type": "code",
   "execution_count": 27,
   "id": "74d8e600",
   "metadata": {},
   "outputs": [],
   "source": [
    "x = np.linspace(0, 30, 1000)\n",
    "gaussian_mixture = p1 * norm.pdf(x, m1, scale=sigma1) + p2 * norm.pdf(x, m2, scale=sigma2)"
   ]
  },
  {
   "cell_type": "code",
   "execution_count": 28,
   "id": "ce5e877b",
   "metadata": {},
   "outputs": [
    {
     "data": {
      "image/png": "[encoded data removed]",
      "text/plain": [
       "<Figure size 432x288 with 1 Axes>"
      ]
     },
     "metadata": {
      "needs_background": "light"
     },
     "output_type": "display_data"
    }
   ],
   "source": [
    "plt.plot(x, gaussian_mixture, color='red')\n",
    "plt.hist(data, bins=100, density=True)\n",
    "plt.legend(['$p_1N(\\mu_1, 1) + p_2N(\\mu_2, 1)$', 'data'])\n",
    "plt.ylabel('p(x)')\n",
    "plt.xlabel('x')\n",
    "# plt.savefig('../images/3f.png')\n",
    "plt.show()"
   ]
  },
  {
   "cell_type": "code",
   "execution_count": 29,
   "id": "f4789260",
   "metadata": {},
   "outputs": [
    {
     "data": {
      "text/plain": [
       "array([4.83941449e-001, 4.98469825e-001, 5.12971548e-001, 5.27419319e-001,\n",
       "       5.41785206e-001, 5.56040728e-001, 5.70156941e-001, 5.84104538e-001,\n",
       "       5.97853942e-001, 6.11375409e-001, 6.24639130e-001, 6.37615344e-001,\n",
       "       6.50274442e-001, 6.62587078e-001, 6.74524287e-001, 6.86057589e-001,\n",
       "       6.97159108e-001, 7.07801683e-001, 7.17958975e-001, 7.27605575e-001,\n",
       "       7.36717116e-001, 7.45270367e-001, 7.53243337e-001, 7.60615369e-001,\n",
       "       7.67367226e-001, 7.73481175e-001, 7.78941069e-001, 7.83732413e-001,\n",
       "       7.87842430e-001, 7.91260118e-001, 7.93976299e-001, 7.95983660e-001,\n",
       "       7.97276786e-001, 7.97852182e-001, 7.97708294e-001, 7.96845511e-001,\n",
       "       7.95266164e-001, 7.92974518e-001, 7.89976751e-001, 7.86280926e-001,\n",
       "       7.81896958e-001, 7.76836563e-001, 7.71113214e-001, 7.64742073e-001,\n",
       "       7.57739933e-001, 7.50125136e-001, 7.41917497e-001, 7.33138220e-001,\n",
       "       7.23809802e-001, 7.13955940e-001, 7.03601432e-001, 6.92772070e-001,\n",
       "       6.81494535e-001, 6.69796290e-001, 6.57705463e-001, 6.45250742e-001,\n",
       "       6.32461259e-001, 6.19366478e-001, 6.05996082e-001, 5.92379865e-001,\n",
       "       5.78547621e-001, 5.64529041e-001, 5.50353606e-001, 5.36050489e-001,\n",
       "       5.21648459e-001, 5.07175789e-001, 4.92660167e-001, 4.78128617e-001,\n",
       "       4.63607421e-001, 4.49122043e-001, 4.34697073e-001, 4.20356157e-001,\n",
       "       4.06121949e-001, 3.92016063e-001, 3.78059029e-001, 3.64270264e-001,\n",
       "       3.50668033e-001, 3.37269436e-001, 3.24090385e-001, 3.11145598e-001,\n",
       "       2.98448586e-001, 2.86011663e-001, 2.73845944e-001, 2.61961359e-001,\n",
       "       2.50366667e-001, 2.39069478e-001, 2.28076275e-001, 2.17392442e-001,\n",
       "       2.07022297e-001, 1.96969125e-001, 1.87235219e-001, 1.77821914e-001,\n",
       "       1.68729636e-001, 1.59957943e-001, 1.51505572e-001, 1.43370484e-001,\n",
       "       1.35549915e-001, 1.28040423e-001, 1.20837937e-001, 1.13937807e-001,\n",
       "       1.07334853e-001, 1.01023410e-001, 9.49973812e-002, 8.92502818e-002,\n",
       "       8.37752844e-002, 7.85652646e-002, 7.36128439e-002, 6.89104312e-002,\n",
       "       6.44502625e-002, 6.02244393e-002, 5.62249649e-002, 5.24437782e-002,\n",
       "       4.88727867e-002, 4.55038965e-002, 4.23290403e-002, 3.93402041e-002,\n",
       "       3.65294513e-002, 3.38889443e-002, 3.14109654e-002, 2.90879342e-002,\n",
       "       2.69124247e-002, 2.48771788e-002, 2.29751195e-002, 2.11993616e-002,\n",
       "       1.95432208e-002, 1.80002214e-002, 1.65641024e-002, 1.52288223e-002,\n",
       "       1.39885624e-002, 1.28377289e-002, 1.17709542e-002, 1.07830964e-002,\n",
       "       9.86923889e-003, 9.02468778e-003, 8.24496967e-003, 7.52582805e-003,\n",
       "       6.86321923e-003, 6.25330778e-003, 5.69246134e-003, 5.17724511e-003,\n",
       "       4.70441597e-003, 4.27091626e-003, 3.87386739e-003, 3.51056319e-003,\n",
       "       3.17846323e-003, 2.87518597e-003, 2.59850192e-003, 2.34632677e-003,\n",
       "       2.11671458e-003, 1.90785102e-003, 1.71804672e-003, 1.54573069e-003,\n",
       "       1.38944399e-003, 1.24783341e-003, 1.11964547e-003, 1.00372051e-003,\n",
       "       8.98987017e-004, 8.04456183e-004, 7.19216628e-004, 6.42429386e-004,\n",
       "       5.73323084e-004, 5.11189366e-004, 4.55378524e-004, 4.05295360e-004,\n",
       "       3.60395259e-004, 3.20180487e-004, 2.84196682e-004, 2.52029570e-004,\n",
       "       2.23301862e-004, 1.97670355e-004, 1.74823212e-004, 1.54477416e-004,\n",
       "       1.36376409e-004, 1.20287877e-004, 1.06001697e-004, 9.33280365e-005,\n",
       "       8.20955832e-005, 7.21499123e-005, 6.33519774e-005, 5.55767177e-005,\n",
       "       4.87117762e-005, 4.26563204e-005, 3.73199596e-005, 3.26217528e-005,\n",
       "       2.84892996e-005, 2.48579096e-005, 2.16698442e-005, 1.88736251e-005,\n",
       "       1.64234053e-005, 1.42783970e-005, 1.24023517e-005, 1.07630904e-005,\n",
       "       9.33207637e-006, 8.08403030e-006, 6.99658207e-006, 6.04995697e-006,\n",
       "       5.22669298e-006, 4.51138661e-006, 3.89046448e-006, 3.35197843e-006,\n",
       "       2.88542193e-006, 2.48156579e-006, 2.13231131e-006, 1.83055920e-006,\n",
       "       1.57009272e-006, 1.34547358e-006, 1.15194939e-006, 9.85371450e-007,\n",
       "       8.42121789e-007, 7.19048502e-007, 6.13408541e-007, 5.22817125e-007,\n",
       "       4.45203061e-007, 3.78769352e-007, 3.21958483e-007, 2.73421881e-007,\n",
       "       2.31993070e-007, 1.96664110e-007, 1.66564927e-007, 1.40945223e-007,\n",
       "       1.19158634e-007, 1.00648897e-007, 8.49377749e-008, 7.16145208e-008,\n",
       "       6.03267115e-008, 5.07722683e-008, 4.26925241e-008, 3.58662070e-008,\n",
       "       3.01042229e-008, 2.52451377e-008, 2.11512685e-008, 1.77053063e-008,\n",
       "       1.48074005e-008, 1.23726451e-008, 1.03289134e-008, 8.61499585e-009,\n",
       "       7.17899845e-009, 5.97696893e-009, 4.97171803e-009, 4.13180991e-009,\n",
       "       3.43069830e-009, 2.84598807e-009, 2.35880465e-009, 1.95325626e-009,\n",
       "       1.61597571e-009, 1.33573032e-009, 1.10309037e-009, 9.10147440e-010,\n",
       "       7.50275498e-010, 6.17928360e-010, 5.08468254e-010, 4.18020818e-010,\n",
       "       3.43352593e-010, 2.81767633e-010, 2.31020344e-010, 1.89242076e-010,\n",
       "       1.54879355e-010, 1.26641986e-010, 1.03459469e-010, 8.44444533e-011,\n",
       "       6.88621162e-011, 5.61045332e-011, 4.56692515e-011, 3.71413929e-011,\n",
       "       3.01787211e-011, 2.44991958e-011, 1.98706090e-011, 1.61019650e-011,\n",
       "       1.30363175e-011, 1.05448240e-011, 8.52181482e-012, 6.88070917e-012,\n",
       "       5.55063491e-012, 4.47363427e-012, 3.60235610e-012, 2.89815200e-012,\n",
       "       2.32950705e-012, 1.87074783e-012, 1.50097972e-012, 1.20321365e-012,\n",
       "       9.63649336e-013, 7.71087488e-013, 6.16448270e-013, 4.92377243e-013,\n",
       "       3.92923187e-013, 3.13274969e-013, 2.49546846e-013, 1.98603468e-013,\n",
       "       1.57917377e-013, 1.25453092e-013, 9.95729025e-014, 7.89603959e-014,\n",
       "       6.25584269e-014, 4.95188641e-014, 3.91619114e-014, 3.09432153e-014,\n",
       "       2.44272935e-014, 1.92660912e-014, 1.51816938e-014, 1.19524021e-014,\n",
       "       9.40152950e-015, 7.38839633e-015, 5.80109807e-015, 4.55070394e-015,\n",
       "       3.56660743e-015, 2.79280356e-015, 2.18491135e-015, 1.70779447e-015,\n",
       "       1.33366188e-015, 1.04055305e-015, 8.11131124e-016, 6.31722372e-016,\n",
       "       4.91552378e-016, 3.82139294e-016, 2.96812334e-016, 2.30330020e-016,\n",
       "       1.78577812e-016, 1.38328861e-016, 1.07054877e-016, 8.27767678e-017,\n",
       "       6.39468012e-017, 4.93557251e-017, 3.80596334e-017, 2.93224340e-017,\n",
       "       2.25706354e-017, 1.73578490e-017, 1.33369456e-017, 1.02382376e-017,\n",
       "       7.85239938e-018, 6.01710942e-018, 4.60661365e-018, 3.52357908e-018,\n",
       "       2.69274115e-018, 2.05595471e-018, 1.56834222e-018, 1.19529878e-018,\n",
       "       9.10165706e-019, 6.92425117e-019, 5.26300170e-019, 3.99670929e-019,\n",
       "       3.03235443e-019, 2.29861224e-019, 1.74084386e-019, 1.31723201e-019,\n",
       "       9.95802213e-020, 7.52128852e-020, 5.67570432e-020, 4.27913146e-020,\n",
       "       3.22329346e-020, 2.42578561e-020, 1.82395172e-020, 1.37019574e-020,\n",
       "       1.02839567e-020, 7.71163058e-021, 5.77750789e-021, 4.32457297e-021,\n",
       "       3.23410610e-021, 2.41642684e-021, 1.80385402e-021, 1.34535680e-021,\n",
       "       1.00249432e-021, 7.46336560e-022, 5.55131490e-022, 4.12539333e-022,\n",
       "       3.06297331e-022, 2.27211033e-022, 1.68392976e-022, 1.24688637e-022,\n",
       "       9.22440022e-023, 6.81801180e-023, 5.03484044e-023, 3.71468530e-023,\n",
       "       2.73820964e-023, 2.01659977e-023, 1.48381954e-023, 1.09081427e-023,\n",
       "       8.01177759e-024, 5.87916044e-024, 4.31032574e-024, 3.15728091e-024,\n",
       "       2.31059967e-024, 1.68944689e-024, 1.23416360e-024, 9.00760373e-025,\n",
       "       6.56831790e-025, 4.78528059e-025, 3.48312455e-025, 2.53302195e-025,\n",
       "       1.84042131e-025, 1.33599215e-025, 9.68944518e-026, 7.02105325e-026,\n",
       "       5.08292820e-026, 3.67649548e-026, 2.65682194e-026, 1.91822353e-026,\n",
       "       1.38370761e-026, 9.97235659e-027, 7.18058158e-027, 5.16570729e-027,\n",
       "       3.71285782e-027, 2.66621517e-027, 1.91289189e-027, 1.37117854e-027,\n",
       "       9.81987455e-028, 7.02629250e-028, 5.02290383e-028, 3.58749953e-028,\n",
       "       2.55998366e-028, 1.82511774e-028, 1.30002868e-028, 9.25173812e-029,\n",
       "       6.57812438e-029, 4.67292901e-029, 3.31653540e-029, 2.35173533e-029,\n",
       "       1.66609822e-029, 1.17929135e-029, 8.33969127e-030, 5.89233171e-030,\n",
       "       4.15941979e-030, 2.93350392e-030, 2.06704030e-030, 1.45518954e-030,\n",
       "       1.02352520e-030, 7.19259931e-031, 5.04988567e-031, 3.54230194e-031,\n",
       "       2.48254974e-031, 1.73827584e-031, 1.21603978e-031, 8.49934034e-032,\n",
       "       5.93514060e-032, 4.14080858e-032, 2.88634108e-032, 2.01010386e-032,\n",
       "       1.39861344e-032, 9.72266334e-033, 6.75275746e-033, 4.68581790e-033,\n",
       "       3.24861327e-033, 2.25018888e-033, 1.55721395e-033, 1.07667827e-033,\n",
       "       7.43758540e-034, 5.13317811e-034, 3.53955817e-034, 2.43848521e-034,\n",
       "       1.67841576e-034, 1.15421663e-034, 7.93018747e-035, 5.44362167e-035,\n",
       "       3.73336771e-035, 2.55812611e-035, 1.75126347e-035, 1.19781398e-035,\n",
       "       8.18531914e-036, 5.58843507e-036, 3.81200230e-036, 2.59791209e-036,\n",
       "       1.76890333e-036, 1.20335038e-036, 8.17877863e-037, 5.55383737e-037,\n",
       "       3.76795941e-037, 2.55403959e-037, 1.72964663e-037, 1.17029540e-037,\n",
       "       7.91119273e-038, 5.34314281e-038, 3.60545394e-038, 2.43070063e-038,\n",
       "       1.63723623e-038, 1.10179189e-038, 7.40791772e-039, 4.97623727e-039,\n",
       "       3.33975310e-039, 2.23942229e-039, 1.50025810e-039, 1.00416324e-039,\n",
       "       6.71507720e-040, 4.48648326e-040, 2.99481118e-040, 1.99729030e-040,\n",
       "       1.33082604e-040, 8.85951079e-041, 5.89259433e-041, 3.91572062e-041,\n",
       "       2.59971180e-041, 1.72443593e-041, 1.14281853e-041, 7.56686241e-042,\n",
       "       5.00567618e-042, 3.30840005e-042, 2.18464884e-042, 1.44129742e-042,\n",
       "       9.50022589e-043, 6.25637262e-043, 4.11641957e-043, 2.70598268e-043,\n",
       "       1.77720999e-043, 1.16616722e-043, 7.64524247e-044, 5.00760485e-044,\n",
       "       3.27700565e-044, 2.14255847e-044, 1.39957613e-044, 9.13416225e-045,\n",
       "       5.95592568e-045, 3.88005757e-045, 2.52543050e-045, 1.64225664e-045,\n",
       "       1.06697681e-045, 6.92591711e-046, 4.49167112e-046, 2.91036167e-046,\n",
       "       1.88405825e-046, 1.21856877e-046, 7.87433906e-047, 5.08377747e-047,\n",
       "       3.27919546e-047, 2.11327701e-047, 1.36067343e-047, 8.75305655e-048,\n",
       "       5.62566562e-048, 3.61240511e-048, 2.31754050e-048, 1.48547918e-048,\n",
       "       9.51292689e-049, 6.08653467e-049, 3.89075956e-049, 2.48488926e-049,\n",
       "       1.58557955e-049, 1.01082828e-049, 6.43835748e-050, 4.09714317e-050,\n",
       "       2.60492693e-050, 1.65469633e-050, 1.05014535e-050, 6.65869120e-051,\n",
       "       4.21829248e-051, 2.66988684e-051, 1.68833014e-051, 1.06667040e-051,\n",
       "       6.73304419e-052, 4.24620580e-052, 2.67546310e-052, 1.68424491e-052,\n",
       "       1.05930220e-052, 6.65645279e-053, 4.17901751e-053, 2.62128279e-053,\n",
       "       1.64271384e-053, 1.02853318e-053, 6.43402951e-054, 4.02120435e-054,\n",
       "       2.51094726e-054, 1.56648914e-054, 9.76394985e-055, 6.08039850e-055,\n",
       "       3.78309196e-055, 2.35163603e-055, 1.46050035e-055, 9.06236553e-056,\n",
       "       5.61810484e-056, 3.47973727e-056, 2.15333412e-056, 1.33132700e-056,\n",
       "       8.22368398e-057, 5.07523827e-057, 3.12935485e-057, 1.92779806e-057,\n",
       "       1.18652425e-057, 7.29625580e-058, 4.48261908e-058, 2.75151555e-058,\n",
       "       1.68740938e-058, 1.03389706e-058, 6.32910778e-059, 3.87093640e-059,\n",
       "       2.36536373e-059, 1.44406978e-059, 8.80819217e-060, 5.36776796e-060,\n",
       "       3.26820310e-060, 1.98807468e-060, 1.20827198e-060, 7.33677269e-061,\n",
       "       4.45096088e-061, 2.69780678e-061, 1.63371486e-061, 9.88439353e-062,\n",
       "       5.97492074e-062, 3.60846603e-062, 2.17731591e-062, 1.31258859e-062,\n",
       "       7.90576960e-063, 4.75738211e-063, 2.86022546e-063, 1.71807000e-063,\n",
       "       1.03107389e-063, 6.18225737e-064, 3.70350319e-064, 2.21659687e-064,\n",
       "       1.32546743e-064, 7.91880703e-065, 4.72670839e-065, 2.81881265e-065,\n",
       "       1.67950757e-065, 9.99783746e-066, 5.94618655e-066, 3.53329046e-066,\n",
       "       2.09762815e-066, 1.24418802e-066, 7.37312986e-067, 4.36542068e-067,\n",
       "       2.58231176e-067, 1.52615834e-067, 9.01153699e-068, 5.31626347e-068,\n",
       "       3.13344788e-068, 1.84521428e-068, 1.08562413e-068, 6.38146694e-069,\n",
       "       3.74774394e-069, 2.19901226e-069, 1.28912117e-069, 7.55036913e-070,\n",
       "       4.41825705e-070, 2.58310540e-070, 1.50883457e-070, 8.80540787e-071,\n",
       "       5.13411605e-071, 2.99081973e-071, 1.74069685e-071, 1.01219550e-071,\n",
       "       5.88049677e-072, 3.41328050e-072, 1.97942156e-072, 1.14686675e-072,\n",
       "       6.63889781e-073, 3.83961214e-073, 2.21864123e-073, 1.28084081e-073,\n",
       "       7.38773969e-074, 4.25732068e-074, 2.45114779e-074, 1.40997360e-074,\n",
       "       8.10327948e-075, 4.65284952e-075, 2.66922723e-075, 1.52989082e-075,\n",
       "       8.76079836e-076, 5.01227951e-076, 2.86506996e-076, 1.63622691e-076,\n",
       "       9.33598584e-077, 5.32212646e-077, 3.03122760e-077, 1.72488544e-077,\n",
       "       9.80641610e-078, 5.57017360e-078, 3.16108006e-078, 1.79229962e-078,\n",
       "       1.01529929e-078, 5.74626836e-079, 3.24927207e-079, 1.83566997e-079,\n",
       "       1.03612340e-079, 5.84301110e-080, 3.29207934e-080, 1.85315705e-080,\n",
       "       1.04222746e-080, 5.85627081e-081, 3.28766941e-081, 1.84401090e-081,\n",
       "       1.03334937e-081, 5.78547770e-082, 3.23623181e-082, 1.80862435e-082,\n",
       "       1.00987001e-082, 5.63366385e-083, 3.13996449e-083, 1.74850507e-083,\n",
       "       9.72786211e-084, 5.40724775e-084, 3.00291807e-084, 1.66616900e-084,\n",
       "       9.23640504e-085, 5.11558424e-085, 2.83071316e-085, 1.56496576e-085,\n",
       "       8.64414745e-086, 4.77032365e-086, 2.63015823e-086, 1.44885279e-086,\n",
       "       7.97397732e-087, 4.38464143e-087, 2.40880433e-087, 1.32213960e-087,\n",
       "       7.25039151e-088, 3.97240897e-088, 2.17447692e-088, 1.18922492e-088,\n",
       "       6.49802764e-089, 3.54737792e-089, 1.93482511e-089, 1.05434883e-089,\n",
       "       5.74030915e-090, 3.12244355e-090, 1.69692348e-090, 9.21378928e-091,\n",
       "       4.99830374e-091, 2.70903967e-091, 1.46695380e-091, 7.93644228e-092,\n",
       "       4.28986513e-092, 2.31669983e-092, 1.24998341e-092, 6.73824940e-093,\n",
       "       3.62909441e-093, 1.95280017e-093, 1.04984623e-093, 5.63899791e-094,\n",
       "       3.02612265e-094, 1.62248045e-094, 8.69122052e-095, 4.65147209e-095,\n",
       "       2.48718689e-095, 1.32872398e-095, 7.09201229e-096, 3.78192174e-096,\n",
       "       2.01494848e-096, 1.07256522e-096, 5.70416163e-097, 3.03087684e-097,\n",
       "       1.60898912e-097, 8.53387499e-098, 4.52217952e-098, 2.39418482e-098,\n",
       "       1.26641457e-098, 6.69271725e-099, 3.53376291e-099, 1.86414929e-099,\n",
       "       9.82499470e-100, 5.17359361e-100, 2.72182783e-100, 1.43066298e-100,\n",
       "       7.51315560e-101, 3.94199236e-101, 2.06641490e-101, 1.08225007e-101,\n",
       "       5.66299365e-102, 2.96055325e-102, 1.54635083e-102, 8.06959131e-103,\n",
       "       4.20729921e-103, 2.19161170e-103, 1.14059687e-103, 5.93074278e-104,\n",
       "       3.08101886e-104, 1.59914548e-104, 8.29258530e-105, 4.29635611e-105,\n",
       "       2.22391891e-105, 1.15012747e-105, 5.94266645e-106, 3.06778618e-106,\n",
       "       1.58225753e-106, 8.15337855e-107, 4.19765165e-107, 2.15915358e-107,\n",
       "       1.10960659e-107, 5.69721844e-108, 2.92257098e-108, 1.49787515e-108,\n",
       "       7.66998503e-109, 3.92393468e-109, 2.00566028e-109, 1.02423905e-109,\n",
       "       5.22581028e-110, 2.66387781e-110, 1.35669840e-110, 6.90336247e-111,\n",
       "       3.50950927e-111, 1.78254484e-111, 9.04571467e-112, 4.58620705e-112,\n",
       "       2.32312609e-112, 1.17571013e-112, 5.94478414e-113, 3.00317245e-113,\n",
       "       1.51576824e-113, 7.64352499e-114, 3.85090609e-114, 1.93838713e-114,\n",
       "       9.74824552e-115, 4.89802224e-115, 2.45880110e-115, 1.23320250e-115,\n",
       "       6.17950583e-116, 3.09372316e-116, 1.54745312e-116, 7.73324747e-117,\n",
       "       3.86113216e-117, 1.92608645e-117, 9.59942543e-118, 4.77994670e-118,\n",
       "       2.37798560e-118, 1.18196261e-118, 5.86957436e-119, 2.91217743e-119,\n",
       "       1.44356853e-119, 7.14932983e-120, 3.53754206e-120, 1.74882456e-120,\n",
       "       8.63772207e-121, 4.26246240e-121, 2.10150413e-121, 1.03516192e-121,\n",
       "       5.09441920e-122, 2.50489440e-122, 1.23053088e-122, 6.03954142e-123,\n",
       "       2.96158201e-123, 1.45094822e-123, 7.10212675e-124, 3.47322785e-124,\n",
       "       1.69701813e-124, 8.28415167e-125, 4.04034038e-125, 1.96877560e-125,\n",
       "       9.58479510e-126, 4.66205939e-126, 2.26558897e-126, 1.10000027e-126,\n",
       "       5.33596310e-127, 2.58607546e-127, 1.25221218e-127, 6.05791259e-128,\n",
       "       2.92803616e-128, 1.41396357e-128, 6.82194724e-129, 3.28841670e-129,\n",
       "       1.58370280e-129, 7.62024401e-130, 3.66329947e-130, 1.75947994e-130,\n",
       "       8.44315124e-131, 4.04793164e-131, 1.93896568e-131, 9.27930453e-132,\n",
       "       4.43679216e-132, 2.11948865e-132, 1.01158284e-132, 4.82369866e-133,\n",
       "       2.29809107e-133, 1.09386229e-133, 5.20195297e-134, 2.47160203e-134,\n",
       "       1.17327284e-134, 5.56452173e-135, 2.63672611e-135, 1.24827580e-135,\n",
       "       5.90424584e-136, 2.79014431e-136, 1.31733810e-136, 6.21407070e-137,\n",
       "       2.92862308e-137, 1.37898367e-137, 6.48728708e-138, 3.04912665e-138,\n",
       "       1.43184551e-138, 6.71777126e-139, 3.14892716e-139, 1.47471592e-139,\n",
       "       6.90021267e-140, 3.22570713e-140, 1.50659231e-140, 7.03031701e-141,\n",
       "       3.27764885e-141, 1.52671612e-141, 7.10497427e-142, 3.30350585e-142,\n",
       "       1.53460286e-142, 7.12238226e-143, 3.30265270e-143, 1.53006149e-143,\n",
       "       7.08211895e-144, 3.27511007e-144, 1.51320210e-144, 6.98515944e-145,\n",
       "       3.22154397e-145, 1.48443148e-145, 6.83383673e-146, 3.14323893e-146,\n",
       "       1.44443679e-146, 6.63174842e-147, 3.04204682e-147, 1.39415833e-147,\n",
       "       6.38361453e-148, 2.92031408e-148, 1.33475275e-148, 6.09509439e-149,\n",
       "       2.78079132e-149, 1.26754888e-149, 5.77257235e-150, 2.62653024e-150,\n",
       "       1.19399849e-150, 5.42292381e-151, 2.46077315e-151, 1.11562441e-151,\n",
       "       5.05327332e-152, 2.28684075e-152, 1.03396874e-152, 4.67075669e-153,\n",
       "       2.10802343e-153, 9.50543453e-154, 4.28229782e-154, 1.92748103e-154,\n",
       "       8.66785646e-155, 3.89440990e-155, 1.74815510e-155, 7.84019050e-156,\n",
       "       3.51302808e-156, 1.57269671e-156, 7.03423201e-157, 3.14337902e-157,\n",
       "       1.40341193e-157, 6.26010950e-158, 2.78988979e-158, 1.24222572e-158,\n",
       "       5.52614582e-159, 2.45613659e-159, 1.09066416e-159, 4.83880275e-160,\n",
       "       2.14483135e-160, 9.49853729e-161, 4.20270268e-161, 1.85784275e-161,\n",
       "       8.20535909e-162, 3.62071701e-162, 1.59624638e-162, 7.03094369e-163,\n",
       "       3.09410941e-163, 1.36039825e-163, 5.97592058e-164, 2.62271995e-164,\n",
       "       1.15002525e-164, 5.03815103e-165, 2.20517643e-165, 9.64325948e-166,\n",
       "       4.21320622e-166, 1.83911943e-166, 8.02075959e-167, 3.49485707e-167,\n",
       "       1.52142900e-167, 6.61732270e-168, 2.87555243e-168, 1.24844271e-168,\n",
       "       5.41532215e-169, 2.34686620e-169, 1.01615677e-169, 4.39583568e-170,\n",
       "       1.89989910e-170, 8.20404394e-171, 3.53943361e-171, 1.52562541e-171,\n",
       "       6.57007626e-172, 2.82684020e-172, 1.21517957e-172, 5.21900860e-173,\n",
       "       2.23946313e-173, 9.60081660e-174, 4.11226205e-174, 1.75979364e-174,\n",
       "       7.52403931e-175, 3.21402108e-175, 1.37168610e-175, 5.84883146e-176,\n",
       "       2.49167749e-176, 1.06052986e-176, 4.50985238e-177, 1.91606441e-177,\n",
       "       8.13328954e-178, 3.44929798e-178, 1.46151591e-178, 6.18706578e-179,\n",
       "       2.61682254e-179, 1.10578873e-179, 4.66851117e-180, 1.96921437e-180,\n",
       "       8.29881231e-181, 3.49419582e-181, 1.46989696e-181, 6.17781491e-182,\n",
       "       2.59412707e-182, 1.08831835e-182, 4.56172406e-183, 1.91033891e-183])"
      ]
     },
     "execution_count": 29,
     "metadata": {},
     "output_type": "execute_result"
    }
   ],
   "source": []
  },
  {
   "cell_type": "code",
   "execution_count": 30,
   "id": "91d596a9",
   "metadata": {},
   "outputs": [
    {
     "name": "stderr",
     "output_type": "stream",
     "text": [
      "/usr/lib/python3/dist-packages/scipy/optimize/_minpack_py.py:175: RuntimeWarning: The iteration is not making good progress, as measured by the \n",
      "  improvement from the last ten iterations.\n",
      "  warnings.warn(msg, RuntimeWarning)\n"
     ]
    },
    {
     "data": {
      "text/plain": [
       "array([1., 1., 1., 1., 1., 1.])"
      ]
     },
     "execution_count": 30,
     "metadata": {},
     "output_type": "execute_result"
    }
   ],
   "source": [
    "fsolve(gaussian_mixture_app, [1, 1, 1, 1, 1, 1])"
   ]
  },
  {
   "cell_type": "code",
   "execution_count": 31,
   "id": "fb8a6c00",
   "metadata": {},
   "outputs": [
    {
     "data": {
      "text/plain": [
       "[-4.496145618324817,\n",
       " -42.554361807879815,\n",
       " -352.56586952543273,\n",
       " -2948.068491427333,\n",
       " -25581.864941277425,\n",
       " -229426.97759417215]"
      ]
     },
     "execution_count": 31,
     "metadata": {},
     "output_type": "execute_result"
    }
   ],
   "source": [
    "gaussian_mixture_app([1, 1, 1, 1, 1, 1])"
   ]
  },
  {
   "cell_type": "code",
   "execution_count": 135,
   "id": "0daa2830",
   "metadata": {},
   "outputs": [],
   "source": [
    "def func(x):\n",
    "    p1 = x[0]\n",
    "    p2 = x[1]\n",
    "    k1 = x[2]\n",
    "    k2 = x[3]\n",
    "    theta1 = x[4]\n",
    "    theta2 = x[5]\n",
    "    return [\n",
    "        p1+p2 - 1,\n",
    "        p1*k1*theta1 + p2*k2*theta2 - moment1,\n",
    "        p1*k1*(k1+1)*(theta1**2) + p2*k2*(k2+1)*(theta2**2) - moment2,\n",
    "        p1*k1*(k1+1)*(k1+2)*(theta1**3) + p2*k2*(k2+1)*(k2+2)*(theta2**3) - moment3,\n",
    "        p1*k1*(k1+1)*(k1+2)*(k1+3)*(theta1**4) + p2*k2*(k2+1)*(k2+2)*(k2+3)*(theta2**4) - moment4,\n",
    "        p1*k1*(k1+1)*(k1+2)*(k1+3)*(k1+4)*(theta1**5) + p2*k2*(k2+1)*(k2+2)*(k2+3)*(k2+4)*(theta2**5) - moment5,\n",
    "        # p1*k1*(k1+1)*(k1+2)*(k1+3)*(k1+4)*(k1+5)*(theta1**6) + p2*k2*(k2+1)*(k2+2)*(k2+3)*(k2+4)*(k2+5)*(theta2**6) - moment6\n",
    "    ]"
   ]
  },
  {
   "cell_type": "code",
   "execution_count": 136,
   "id": "7b452ac3",
   "metadata": {},
   "outputs": [
    {
     "name": "stderr",
     "output_type": "stream",
     "text": [
      "/usr/lib/python3/dist-packages/scipy/optimize/_minpack_py.py:175: RuntimeWarning: The iteration is not making good progress, as measured by the \n",
      "  improvement from the last ten iterations.\n",
      "  warnings.warn(msg, RuntimeWarning)\n"
     ]
    }
   ],
   "source": [
    "# p3 = 0.5\n",
    "# while p1 + p2 > 1:\n",
    "p1, p2, k1, k2, theta1, theta2 = fsolve(func, [0.5, 1, 1, 0.5, 1, 1])\n",
    "    # p3 = p1"
   ]
  },
  {
   "cell_type": "code",
   "execution_count": 137,
   "id": "094d448d",
   "metadata": {},
   "outputs": [
    {
     "data": {
      "text/plain": [
       "[0.42370468344484435,\n",
       " -4.13500426872992,\n",
       " -39.273064291555585,\n",
       " -327.53788369880095,\n",
       " -2769.9998540343286,\n",
       " -24145.51006859342]"
      ]
     },
     "execution_count": 137,
     "metadata": {},
     "output_type": "execute_result"
    }
   ],
   "source": [
    "func([p1, p2, k1, k2, theta1, theta2])"
   ]
  },
  {
   "cell_type": "code",
   "execution_count": 138,
   "id": "6061e70b",
   "metadata": {},
   "outputs": [],
   "source": [
    "p1, p2, k1, k2, theta1, theta2 = fsolve(func, [p1, p2, k1, k2, theta1, theta2])"
   ]
  },
  {
   "cell_type": "code",
   "execution_count": 139,
   "id": "539a53ea",
   "metadata": {},
   "outputs": [
    {
     "data": {
      "text/plain": [
       "(0.33532029086648324,\n",
       " 4.970146476667409,\n",
       " 1.5738378980296668,\n",
       " 0.6646797049817961,\n",
       " 1.7835710064955865,\n",
       " 1.3957452372437034)"
      ]
     },
     "execution_count": 139,
     "metadata": {},
     "output_type": "execute_result"
    }
   ],
   "source": [
    "p1, k1, theta1, p2, k2, theta2"
   ]
  },
  {
   "cell_type": "code",
   "execution_count": 140,
   "id": "579b05e9",
   "metadata": {},
   "outputs": [
    {
     "data": {
      "image/png": "[encoded data removed]",
      "text/plain": [
       "<Figure size 432x288 with 1 Axes>"
      ]
     },
     "metadata": {
      "needs_background": "light"
     },
     "output_type": "display_data"
    }
   ],
   "source": [
    "x = np.linspace(0, 30, 1000)\n",
    "gamma_mixture = (p1 * gamma.pdf(x, k1, scale=theta1) + p2 * gamma.pdf(x, k2, scale=theta2)) / 8.935439866578184\n",
    "plt.plot(x, gamma_mixture, color='red')\n",
    "plt.hist(data, bins=100, density=True)\n",
    "plt.legend([r'$p_1\\Gamma(k_1, \\theta_1) + p_2\\Gamma(k_2, \\theta_2)$', 'data'])\n",
    "plt.ylabel('p(x)')\n",
    "plt.xlabel('x')\n",
    "# plt.savefig('../images/3g.png')\n",
    "plt.show()"
   ]
  },
  {
   "cell_type": "code",
   "execution_count": 141,
   "id": "c79f327a",
   "metadata": {},
   "outputs": [
    {
     "data": {
      "text/plain": [
       "(6.496145618324817,\n",
       " 46.554361807879815,\n",
       " 360.56586952543273,\n",
       " 2968.068491427333,\n",
       " 25621.864941277425,\n",
       " 229554.97759417215)"
      ]
     },
     "execution_count": 141,
     "metadata": {},
     "output_type": "execute_result"
    }
   ],
   "source": [
    "moment1, moment2, moment3, moment4, moment5, moment6"
   ]
  },
  {
   "cell_type": "code",
   "execution_count": 142,
   "id": "0cd5e3f7",
   "metadata": {},
   "outputs": [],
   "source": [
    "def gaussian_gamma_mixture(x):\n",
    "    p1 = x[0]\n",
    "    p2 = x[1]\n",
    "    mu = x[2]\n",
    "    sigma = x[3]\n",
    "    k = x[4]\n",
    "    theta = x[5]\n",
    "\n",
    "    return [\n",
    "        p1*mu + p2*k*theta - moment1,\n",
    "        p1*(sigma**2 + mu**2) + p2*(k*(k+1)*(theta**2)) - moment2,\n",
    "        p1*(mu**3 + 3*mu*(sigma**2)) + p2*(k*(k+1)*(k+2)*(theta**3)) - moment3,\n",
    "        p1*(mu**4 + 6*mu**2*(sigma**2) + 3*(sigma**4)) + p2*(k*(k+1)*(k+2)*(k+3)*(theta**4)) - moment4,\n",
    "        p1*(mu**5 + 10*mu**3*(sigma**2) + 15*mu*(sigma**4)) + p2*(k*(k+1)*(k+2)*(k+3)*(k+4)*(theta**5)) - moment5,\n",
    "        p1*(mu**6 + 15*mu**4*(sigma**2) + 45*mu**2*(sigma**4) + 15*(sigma**6)) + p2*(k*(k+1)*(k+2)*(k+3)*(k+4)*(k+5)*(theta**6)) - moment6\n",
    "    ]"
   ]
  },
  {
   "cell_type": "code",
   "execution_count": 143,
   "id": "46a8c340",
   "metadata": {},
   "outputs": [
    {
     "name": "stderr",
     "output_type": "stream",
     "text": [
      "/usr/lib/python3/dist-packages/scipy/optimize/_minpack_py.py:175: RuntimeWarning: The iteration is not making good progress, as measured by the \n",
      "  improvement from the last ten iterations.\n",
      "  warnings.warn(msg, RuntimeWarning)\n"
     ]
    }
   ],
   "source": [
    "p1, p2, mu, sigma, k, theta = fsolve(gaussian_gamma_mixture, [0.5, 0.5, 1, 1, 1, 1])"
   ]
  },
  {
   "cell_type": "code",
   "execution_count": 144,
   "id": "e094db92",
   "metadata": {},
   "outputs": [
    {
     "data": {
      "text/plain": [
       "(5.027249046986647,\n",
       " 0.5532281985748728,\n",
       " 3.12268085753623,\n",
       " 0.8109001233364491,\n",
       " 1.0412888912270695,\n",
       " 0.9748624198257986)"
      ]
     },
     "execution_count": 144,
     "metadata": {},
     "output_type": "execute_result"
    }
   ],
   "source": [
    "p1, p2, mu, sigma, k, theta"
   ]
  },
  {
   "cell_type": "code",
   "execution_count": 145,
   "id": "54ec6991",
   "metadata": {},
   "outputs": [
    {
     "name": "stderr",
     "output_type": "stream",
     "text": [
      "/usr/lib/python3/dist-packages/scipy/optimize/_minpack_py.py:175: RuntimeWarning: The iteration is not making good progress, as measured by the \n",
      "  improvement from the last five Jacobian evaluations.\n",
      "  warnings.warn(msg, RuntimeWarning)\n"
     ]
    },
    {
     "data": {
      "text/plain": [
       "array([ 1.22585768, -0.0107878 ,  6.06284958,  2.19412276, -0.700909  ,\n",
       "       -0.41532201])"
      ]
     },
     "execution_count": 145,
     "metadata": {},
     "output_type": "execute_result"
    }
   ],
   "source": [
    "fsolve(gaussian_gamma_mixture, [p1, p2, mu, sigma, k, theta])"
   ]
  },
  {
   "cell_type": "code",
   "execution_count": 147,
   "id": "db40c069",
   "metadata": {},
   "outputs": [
    {
     "data": {
      "image/png": "[encoded data removed]",
      "text/plain": [
       "<Figure size 432x288 with 1 Axes>"
      ]
     },
     "metadata": {
      "needs_background": "light"
     },
     "output_type": "display_data"
    }
   ],
   "source": [
    "x = np.linspace(0, 30, 1000)\n",
    "gaussian_gamma = (p1 * norm.pdf(x, mu, scale=sigma) + p2 * gamma.pdf(x, k, scale=theta))/(p1+p2)\n",
    "plt.plot(x, gaussian_gamma, color='red')\n",
    "plt.hist(data, bins=100, density=True)\n",
    "plt.legend([r'$p_1N(\\mu, \\sigma) + p_2\\Gamma(k, \\theta)$', 'data'])\n",
    "plt.ylabel('p(x)')\n",
    "plt.xlabel('x')\n",
    "# plt.savefig('../images/3h.png')\n",
    "plt.show()"
   ]
  },
  {
   "cell_type": "code",
   "execution_count": 183,
   "id": "53aade97",
   "metadata": {},
   "outputs": [],
   "source": [
    "def gmm(x):\n",
    "    p1 = x[0]\n",
    "    p2 = x[1]\n",
    "    mu1 = x[2]\n",
    "    mu2 = x[3]\n",
    "    sigma1 = x[4]\n",
    "    sigma2 = x[5]\n",
    "\n",
    "    return [\n",
    "        p1*mu1 + p2*mu2 - moment1,\n",
    "        p1*((mu1**2) + (sigma1**2)) + p2*((mu2**2) + (sigma2**2)) - moment2,\n",
    "        p1*((mu1**3) + 3*mu1*(sigma1**2)) + p2*((mu2**3)+ 3*mu2*(sigma2**2)) - moment3,\n",
    "        p1*((mu1**4) + 6*(mu1**2)*(sigma1**2) + 3*(sigma1**4)) + p2*((mu2**4) + 6*(mu2**2)*(sigma2**2) + 3*(sigma2**4)) - moment4,\n",
    "        p1*((mu1**5) + 10*(mu1**3)*(sigma1**2) + 15*mu1*(sigma1**4)) + p2*((mu2**5) + 10*(mu2**3)*(sigma2**2) + 15*mu2*(sigma2**4)) - moment5,\n",
    "        p1*(mu1**6 + 15*(mu1**4)*(sigma1**2) + 45*(mu1**2)*(sigma1**4) + 15*(sigma1**6)) + p2*((mu2**6) + 15*(mu2**4)*(sigma2**2) + 45*(mu2**2)*sigma2**4 + 15*(sigma2**6)) - moment6\n",
    "    ]"
   ]
  },
  {
   "cell_type": "code",
   "execution_count": 184,
   "id": "36d0c2b6",
   "metadata": {},
   "outputs": [],
   "source": [
    "p1, p2, mu1, mu2, sigma1, sigma2 = fsolve(gmm, [0.5, 0.5, 1, 1, 1, 1])"
   ]
  },
  {
   "cell_type": "code",
   "execution_count": 185,
   "id": "1b26473b",
   "metadata": {},
   "outputs": [],
   "source": [
    "p1, p2, mu1, mu2, sigma1, sigma2 = fsolve(gmm, [p1, p2, mu1, mu2, sigma1, sigma2])"
   ]
  },
  {
   "cell_type": "code",
   "execution_count": 188,
   "id": "6e1765a6",
   "metadata": {},
   "outputs": [
    {
     "data": {
      "text/plain": [
       "(15.990690867180229,\n",
       " 6.550180419449392,\n",
       " -0.4887226719237469,\n",
       " 0.7160391270929104,\n",
       " -1.4878963777561494,\n",
       " -1.5925673256029236)"
      ]
     },
     "execution_count": 188,
     "metadata": {},
     "output_type": "execute_result"
    }
   ],
   "source": [
    "p1, p2, mu1, mu2, sigma1, sigma2"
   ]
  },
  {
   "cell_type": "code",
   "execution_count": 189,
   "id": "c8879812",
   "metadata": {},
   "outputs": [
    {
     "data": {
      "image/png": "[encoded data removed]",
      "text/plain": [
       "<Figure size 432x288 with 1 Axes>"
      ]
     },
     "metadata": {
      "needs_background": "light"
     },
     "output_type": "display_data"
    }
   ],
   "source": [
    "x = np.linspace(0, 30, 1000)\n",
    "gmm_data = (p1 * norm.pdf(x, mu1, scale=sigma1) + p2 * norm.pdf(x, mu2, scale=sigma2))/(p1+p2)\n",
    "plt.plot(x, gmm_data, color='red')\n",
    "# plt.hist(data, bins=100, density=True)\n",
    "plt.legend([r'$p_1N(\\mu_1, \\sigma_1) + p_2N(\\mu_2, \\sigma_2)$', 'data'])\n",
    "plt.ylabel('p(x)')\n",
    "plt.xlabel('x')\n",
    "# plt.savefig('../images/3i.png')\n",
    "plt.show()"
   ]
  },
  {
   "cell_type": "code",
   "execution_count": 191,
   "id": "126e47c4",
   "metadata": {},
   "outputs": [
    {
     "data": {
      "text/plain": [
       "array([nan, nan, nan, nan, nan, nan, nan, nan, nan, nan, nan, nan, nan,\n",
       "       nan, nan, nan, nan, nan, nan, nan, nan, nan, nan, nan, nan, nan,\n",
       "       nan, nan, nan, nan, nan, nan, nan, nan, nan, nan, nan, nan, nan,\n",
       "       nan, nan, nan, nan, nan, nan, nan, nan, nan, nan, nan, nan, nan,\n",
       "       nan, nan, nan, nan, nan, nan, nan, nan, nan, nan, nan, nan, nan,\n",
       "       nan, nan, nan, nan, nan, nan, nan, nan, nan, nan, nan, nan, nan,\n",
       "       nan, nan, nan, nan, nan, nan, nan, nan, nan, nan, nan, nan, nan,\n",
       "       nan, nan, nan, nan, nan, nan, nan, nan, nan, nan, nan, nan, nan,\n",
       "       nan, nan, nan, nan, nan, nan, nan, nan, nan, nan, nan, nan, nan,\n",
       "       nan, nan, nan, nan, nan, nan, nan, nan, nan, nan, nan, nan, nan,\n",
       "       nan, nan, nan, nan, nan, nan, nan, nan, nan, nan, nan, nan, nan,\n",
       "       nan, nan, nan, nan, nan, nan, nan, nan, nan, nan, nan, nan, nan,\n",
       "       nan, nan, nan, nan, nan, nan, nan, nan, nan, nan, nan, nan, nan,\n",
       "       nan, nan, nan, nan, nan, nan, nan, nan, nan, nan, nan, nan, nan,\n",
       "       nan, nan, nan, nan, nan, nan, nan, nan, nan, nan, nan, nan, nan,\n",
       "       nan, nan, nan, nan, nan, nan, nan, nan, nan, nan, nan, nan, nan,\n",
       "       nan, nan, nan, nan, nan, nan, nan, nan, nan, nan, nan, nan, nan,\n",
       "       nan, nan, nan, nan, nan, nan, nan, nan, nan, nan, nan, nan, nan,\n",
       "       nan, nan, nan, nan, nan, nan, nan, nan, nan, nan, nan, nan, nan,\n",
       "       nan, nan, nan, nan, nan, nan, nan, nan, nan, nan, nan, nan, nan,\n",
       "       nan, nan, nan, nan, nan, nan, nan, nan, nan, nan, nan, nan, nan,\n",
       "       nan, nan, nan, nan, nan, nan, nan, nan, nan, nan, nan, nan, nan,\n",
       "       nan, nan, nan, nan, nan, nan, nan, nan, nan, nan, nan, nan, nan,\n",
       "       nan, nan, nan, nan, nan, nan, nan, nan, nan, nan, nan, nan, nan,\n",
       "       nan, nan, nan, nan, nan, nan, nan, nan, nan, nan, nan, nan, nan,\n",
       "       nan, nan, nan, nan, nan, nan, nan, nan, nan, nan, nan, nan, nan,\n",
       "       nan, nan, nan, nan, nan, nan, nan, nan, nan, nan, nan, nan, nan,\n",
       "       nan, nan, nan, nan, nan, nan, nan, nan, nan, nan, nan, nan, nan,\n",
       "       nan, nan, nan, nan, nan, nan, nan, nan, nan, nan, nan, nan, nan,\n",
       "       nan, nan, nan, nan, nan, nan, nan, nan, nan, nan, nan, nan, nan,\n",
       "       nan, nan, nan, nan, nan, nan, nan, nan, nan, nan, nan, nan, nan,\n",
       "       nan, nan, nan, nan, nan, nan, nan, nan, nan, nan, nan, nan, nan,\n",
       "       nan, nan, nan, nan, nan, nan, nan, nan, nan, nan, nan, nan, nan,\n",
       "       nan, nan, nan, nan, nan, nan, nan, nan, nan, nan, nan, nan, nan,\n",
       "       nan, nan, nan, nan, nan, nan, nan, nan, nan, nan, nan, nan, nan,\n",
       "       nan, nan, nan, nan, nan, nan, nan, nan, nan, nan, nan, nan, nan,\n",
       "       nan, nan, nan, nan, nan, nan, nan, nan, nan, nan, nan, nan, nan,\n",
       "       nan, nan, nan, nan, nan, nan, nan, nan, nan, nan, nan, nan, nan,\n",
       "       nan, nan, nan, nan, nan, nan, nan, nan, nan, nan, nan, nan, nan,\n",
       "       nan, nan, nan, nan, nan, nan, nan, nan, nan, nan, nan, nan, nan,\n",
       "       nan, nan, nan, nan, nan, nan, nan, nan, nan, nan, nan, nan, nan,\n",
       "       nan, nan, nan, nan, nan, nan, nan, nan, nan, nan, nan, nan, nan,\n",
       "       nan, nan, nan, nan, nan, nan, nan, nan, nan, nan, nan, nan, nan,\n",
       "       nan, nan, nan, nan, nan, nan, nan, nan, nan, nan, nan, nan, nan,\n",
       "       nan, nan, nan, nan, nan, nan, nan, nan, nan, nan, nan, nan, nan,\n",
       "       nan, nan, nan, nan, nan, nan, nan, nan, nan, nan, nan, nan, nan,\n",
       "       nan, nan, nan, nan, nan, nan, nan, nan, nan, nan, nan, nan, nan,\n",
       "       nan, nan, nan, nan, nan, nan, nan, nan, nan, nan, nan, nan, nan,\n",
       "       nan, nan, nan, nan, nan, nan, nan, nan, nan, nan, nan, nan, nan,\n",
       "       nan, nan, nan, nan, nan, nan, nan, nan, nan, nan, nan, nan, nan,\n",
       "       nan, nan, nan, nan, nan, nan, nan, nan, nan, nan, nan, nan, nan,\n",
       "       nan, nan, nan, nan, nan, nan, nan, nan, nan, nan, nan, nan, nan,\n",
       "       nan, nan, nan, nan, nan, nan, nan, nan, nan, nan, nan, nan, nan,\n",
       "       nan, nan, nan, nan, nan, nan, nan, nan, nan, nan, nan, nan, nan,\n",
       "       nan, nan, nan, nan, nan, nan, nan, nan, nan, nan, nan, nan, nan,\n",
       "       nan, nan, nan, nan, nan, nan, nan, nan, nan, nan, nan, nan, nan,\n",
       "       nan, nan, nan, nan, nan, nan, nan, nan, nan, nan, nan, nan, nan,\n",
       "       nan, nan, nan, nan, nan, nan, nan, nan, nan, nan, nan, nan, nan,\n",
       "       nan, nan, nan, nan, nan, nan, nan, nan, nan, nan, nan, nan, nan,\n",
       "       nan, nan, nan, nan, nan, nan, nan, nan, nan, nan, nan, nan, nan,\n",
       "       nan, nan, nan, nan, nan, nan, nan, nan, nan, nan, nan, nan, nan,\n",
       "       nan, nan, nan, nan, nan, nan, nan, nan, nan, nan, nan, nan, nan,\n",
       "       nan, nan, nan, nan, nan, nan, nan, nan, nan, nan, nan, nan, nan,\n",
       "       nan, nan, nan, nan, nan, nan, nan, nan, nan, nan, nan, nan, nan,\n",
       "       nan, nan, nan, nan, nan, nan, nan, nan, nan, nan, nan, nan, nan,\n",
       "       nan, nan, nan, nan, nan, nan, nan, nan, nan, nan, nan, nan, nan,\n",
       "       nan, nan, nan, nan, nan, nan, nan, nan, nan, nan, nan, nan, nan,\n",
       "       nan, nan, nan, nan, nan, nan, nan, nan, nan, nan, nan, nan, nan,\n",
       "       nan, nan, nan, nan, nan, nan, nan, nan, nan, nan, nan, nan, nan,\n",
       "       nan, nan, nan, nan, nan, nan, nan, nan, nan, nan, nan, nan, nan,\n",
       "       nan, nan, nan, nan, nan, nan, nan, nan, nan, nan, nan, nan, nan,\n",
       "       nan, nan, nan, nan, nan, nan, nan, nan, nan, nan, nan, nan, nan,\n",
       "       nan, nan, nan, nan, nan, nan, nan, nan, nan, nan, nan, nan, nan,\n",
       "       nan, nan, nan, nan, nan, nan, nan, nan, nan, nan, nan, nan, nan,\n",
       "       nan, nan, nan, nan, nan, nan, nan, nan, nan, nan, nan, nan, nan,\n",
       "       nan, nan, nan, nan, nan, nan, nan, nan, nan, nan, nan, nan, nan,\n",
       "       nan, nan, nan, nan, nan, nan, nan, nan, nan, nan, nan, nan])"
      ]
     },
     "execution_count": 191,
     "metadata": {},
     "output_type": "execute_result"
    }
   ],
   "source": [
    "gmm_data"
   ]
  },
  {
   "cell_type": "code",
   "execution_count": null,
   "id": "8e5515c5",
   "metadata": {},
   "outputs": [],
   "source": []
  },
  {
   "cell_type": "code",
   "execution_count": null,
   "id": "9dbc71e0",
   "metadata": {},
   "outputs": [],
   "source": []
  }
 ],
 "metadata": {
  "kernelspec": {
   "display_name": "Python 3 (ipykernel)",
   "language": "python",
   "name": "python3"
  },
  "language_info": {
   "codemirror_mode": {
    "name": "ipython",
    "version": 3
   },
   "file_extension": ".py",
   "mimetype": "text/x-python",
   "name": "python",
   "nbconvert_exporter": "python",
   "pygments_lexer": "ipython3",
   "version": "3.10.12"
  }
 },
 "nbformat": 4,
 "nbformat_minor": 5
}
