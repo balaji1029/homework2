{
 "cells": [
  {
   "cell_type": "markdown",
   "id": "61a4b7d6",
   "metadata": {},
   "source": [
    "# Fitting Data"
   ]
  },
  {
   "cell_type": "markdown",
   "id": "5ad87eed",
   "metadata": {},
   "source": [
    "Imports used..."
   ]
  },
  {
   "cell_type": "code",
   "execution_count": 1,
   "id": "38356e79",
   "metadata": {},
   "outputs": [
    {
     "name": "stderr",
     "output_type": "stream",
     "text": [
      "/usr/lib/python3/dist-packages/scipy/__init__.py:146: UserWarning: A NumPy version >=1.17.3 and <1.25.0 is required for this version of SciPy (detected version 1.26.4\n",
      "  warnings.warn(f\"A NumPy version >={np_minversion} and <{np_maxversion}\"\n"
     ]
    }
   ],
   "source": [
    "import matplotlib.pyplot as plt\n",
    "import numpy as np\n",
    "import pandas as pd\n",
    "from scipy.optimize import fsolve\n",
    "from scipy.stats import binom\n",
    "from scipy.stats import gamma\n",
    "from scipy.stats import norm\n",
    "from scipy.special import comb"
   ]
  },
  {
   "cell_type": "markdown",
   "id": "aeb97b38",
   "metadata": {},
   "source": [
    "Reading the data from `3.data`"
   ]
  },
  {
   "cell_type": "code",
   "execution_count": 2,
   "id": "58b9b021",
   "metadata": {},
   "outputs": [],
   "source": [
    "data = np.array(pd.read_csv('3.data'))\n",
    "length = np.shape(data)[0]"
   ]
  },
  {
   "cell_type": "markdown",
   "id": "80fbc38b",
   "metadata": {},
   "source": [
    "## Task A"
   ]
  },
  {
   "cell_type": "markdown",
   "id": "9cb4c4df",
   "metadata": {},
   "source": [
    "Calculating the $\\mu_1$ and $\\mu_2$"
   ]
  },
  {
   "cell_type": "code",
   "execution_count": 3,
   "id": "3bce491f",
   "metadata": {},
   "outputs": [
    {
     "data": {
      "text/plain": [
       "6.496121071257862"
      ]
     },
     "execution_count": 3,
     "metadata": {},
     "output_type": "execute_result"
    }
   ],
   "source": [
    "moment1 = np.sum(data)/length\n",
    "moment1"
   ]
  },
  {
   "cell_type": "code",
   "execution_count": 4,
   "id": "ea50f2a3",
   "metadata": {},
   "outputs": [
    {
     "data": {
      "text/plain": [
       "46.55447234919477"
      ]
     },
     "execution_count": 4,
     "metadata": {},
     "output_type": "execute_result"
    }
   ],
   "source": [
    "moment2 = np.sum(data**2)/length\n",
    "moment2"
   ]
  },
  {
   "cell_type": "markdown",
   "id": "8caeb9ed",
   "metadata": {},
   "source": [
    "$\\mu_1 = 6.496121071257862$ and $\\mu_2 = 46.55447234919477$"
   ]
  },
  {
   "cell_type": "markdown",
   "id": "f624f180",
   "metadata": {},
   "source": [
    "## Task B"
   ]
  },
  {
   "cell_type": "markdown",
   "id": "00a036f2",
   "metadata": {},
   "source": [
    "Dividing the data into bins and plotting them as a histogram gives the following plot"
   ]
  },
  {
   "cell_type": "code",
   "execution_count": 50,
   "id": "0aa9acaa",
   "metadata": {},
   "outputs": [
    {
     "data": {
      "image/png": "[encoded data removed]",
      "text/plain": [
       "<Figure size 432x288 with 1 Axes>"
      ]
     },
     "metadata": {
      "needs_background": "light"
     },
     "output_type": "display_data"
    }
   ],
   "source": [
    "counts, bin_edges = np.histogram(data, bins=100)\n",
    "ratios = counts/counts.sum()*7.92\n",
    "plt.bar(bin_edges[:-1], ratios, width=np.diff(bin_edges), color='mediumblue', align=\"edge\")\n",
    "plt.xlabel('x')\n",
    "plt.ylabel('p(x)')\n",
    "# plt.savefig('../images/3a.png')\n",
    "plt.show()"
   ]
  },
  {
   "cell_type": "markdown",
   "id": "7d193338",
   "metadata": {},
   "source": [
    "## Task C"
   ]
  },
  {
   "cell_type": "markdown",
   "id": "d1e7f176",
   "metadata": {},
   "source": [
    "For $X \\sim Bin(n, p)$, <br> <br>\n",
    "<div style='text-align: center;'>\n",
    "    $\\mu_1^{Bin} = \\sum_{r=0}^{n} \\binom{n}{r}p^r (1-p)^{n-r} r$ <br>\n",
    "    $\\mu_1^{Bin} = np$ <br> <br>\n",
    "    $\\mu_2^{Bin} = \\sum_{r=0}^{n} \\binom{n}{r}p^r (1-p)^{n-r} r^2$ <br>\n",
    "    $\\mu_2^{Bin} = np\\sum_{r=1}^{n} \\binom{n-1}{r-1}p^{r-1} (1-p)^{n-r} r$ <br>\n",
    "    $\\mu_2^{Bin} = np\\sum_{r=0}^{n-1} \\binom{n-1}{r}p^{r} (1-p)^{n-r-1} (r+1)$ <br>\n",
    "    $\\mu_2^{Bin} = n(n-1)p^2 + np\\sum_{r=0}^{n-1} \\binom{n-1}{r}p^{r} (1-p)^{n-r-1}$ <br>\n",
    "    $\\mu_2^{Bin} = n(n-1)p^2 + np$\n",
    "</div> <br>\n",
    "$\\implies \\mu_1^{Bin} = np$ and $\\mu_2^{Bin} = n(n-1)p^2 + np$ <br>\n",
    "Using the equations to approximate $\\left(n^\\ast, p^\\ast\\right)$"
   ]
  },
  {
   "cell_type": "code",
   "execution_count": 7,
   "id": "020e0f82",
   "metadata": {},
   "outputs": [],
   "source": [
    "def binom_app(x):\n",
    "    return [x[0]*x[1] - moment1,\n",
    "            x[0]*(x[0]-1)*x[1]*x[1] + x[0]*x[1] - moment2]"
   ]
  },
  {
   "cell_type": "code",
   "execution_count": 8,
   "id": "f441e9f1",
   "metadata": {},
   "outputs": [
    {
     "data": {
      "text/plain": [
       "([0.09623664811258603, 1.3241066553116667],\n",
       " [0.4258545340811084, 5.999642571294508],\n",
       " (20, 0.32961788596852243))"
      ]
     },
     "execution_count": 8,
     "metadata": {},
     "output_type": "execute_result"
    }
   ],
   "source": [
    "n, p = tuple(fsolve(binom_app, [1,1]))\n",
    "n = round(n)\n",
    "binom_app([n, p]), binom_app([n+1, p]), (n, p)"
   ]
  },
  {
   "cell_type": "markdown",
   "id": "16817f5f",
   "metadata": {},
   "source": [
    "$n^\\ast = 20$ and $p^\\ast = 0.32961788596852243$ approximate the moments better."
   ]
  },
  {
   "cell_type": "code",
   "execution_count": 46,
   "id": "babdc745",
   "metadata": {},
   "outputs": [],
   "source": [
    "x = np.linspace(0, 30, 31)\n",
    "binom_data = binom.pmf(x, n, p)"
   ]
  },
  {
   "cell_type": "code",
   "execution_count": 48,
   "id": "39482cd4",
   "metadata": {},
   "outputs": [
    {
     "data": {
      "image/png": "[encoded data removed]",
      "text/plain": [
       "<Figure size 432x288 with 1 Axes>"
      ]
     },
     "metadata": {
      "needs_background": "light"
     },
     "output_type": "display_data"
    }
   ],
   "source": [
    "plt.plot(x, binom_data, color='red')\n",
    "plt.bar(bin_edges[:-1], ratios, width=np.diff(bin_edges), color='mediumblue', align=\"edge\")\n",
    "plt.legend(['binom(n, p)', 'data'])\n",
    "plt.ylabel('p(x)')\n",
    "plt.xlabel('x')\n",
    "# plt.savefig('../images/3c.png')\n",
    "plt.show()"
   ]
  },
  {
   "cell_type": "markdown",
   "id": "c119a656",
   "metadata": {},
   "source": [
    "## Task D"
   ]
  },
  {
   "cell_type": "markdown",
   "id": "2eb7a882",
   "metadata": {},
   "source": [
    "For $X \\sim Gamma(k, \\theta)$, <br><br>\n",
    "<div style='text-align: center;'>\n",
    "    $\\mu_1^{Gamma} = \\int_0^\\infty f(x;k,\\theta)xdx$ <br>\n",
    "    $\\mu_1^{Gamma} = \\int_0^\\infty \\frac{1}{\\theta^k \\Gamma(k)} x^{k-1} e^{-\\frac{x}{\\theta}}xdx$ <br>\n",
    "    $\\mu_1^{Gamma} = \\frac{\\theta^{k+1}\\Gamma(k+1)}{\\theta^k\\Gamma(k)}$ <br>\n",
    "    $\\mu_1^{Gamma} = k\\theta$\n",
    "</div> <br>\n",
    "<div style='text-align: center;'>\n",
    "    $\\mu_2^{Gamma} = \\int_0^\\infty f(x;k,\\theta)x^2dx$ <br>\n",
    "    $\\mu_2^{Gamma} = \\int_0^\\infty \\frac{1}{\\theta^k \\Gamma(k)} x^{k-1} e^{-\\frac{x}{\\theta}}x^2dx$ <br>\n",
    "    $\\mu_2^{Gamma} = \\frac{\\theta^{k+2}\\Gamma(k+2)}{\\theta^k\\Gamma(k)}$ <br>\n",
    "    $\\mu_2^{Gamma} = k(k+1)\\theta^2$\n",
    "</div> <br>\n",
    "$\\implies \\mu_1^{Gamma} = k\\theta$ and $\\mu_2^{Gamma} = k(k+1)\\theta^2$ <br>\n",
    "Using the equations to approximate $\\left(n^\\ast, p^\\ast\\right)$"
   ]
  },
  {
   "cell_type": "code",
   "execution_count": 11,
   "id": "2506f99d",
   "metadata": {},
   "outputs": [],
   "source": [
    "def gamma_app(x):\n",
    "    return [x[0]*x[1] - moment1,\n",
    "            x[0]*(x[0]+1)*x[1]*x[1] - moment2]"
   ]
  },
  {
   "cell_type": "code",
   "execution_count": 12,
   "id": "f2225c65",
   "metadata": {},
   "outputs": [
    {
     "data": {
      "text/plain": [
       "(9.690176595240318, 0.6703821140314945)"
      ]
     },
     "execution_count": 12,
     "metadata": {},
     "output_type": "execute_result"
    }
   ],
   "source": [
    "k, theta = fsolve(gamma_app, [1, 1])\n",
    "k, theta"
   ]
  },
  {
   "cell_type": "markdown",
   "id": "6abed810",
   "metadata": {},
   "source": [
    "$k^\\ast = 9.690176595240318$ and ${\\theta}^{\\ast} = 0.6703821140314945$"
   ]
  },
  {
   "cell_type": "code",
   "execution_count": 34,
   "id": "32da7d9d",
   "metadata": {},
   "outputs": [],
   "source": [
    "x1 = np.linspace(0, 30, 1000)\n",
    "gamma = gamma.pdf(x1, k, scale=theta)"
   ]
  },
  {
   "cell_type": "code",
   "execution_count": 44,
   "id": "a35678d2",
   "metadata": {},
   "outputs": [
    {
     "data": {
      "image/png": "[encoded data removed]",
      "text/plain": [
       "<Figure size 432x288 with 1 Axes>"
      ]
     },
     "metadata": {
      "needs_background": "light"
     },
     "output_type": "display_data"
    }
   ],
   "source": [
    "plt.plot(x1, gamma, color='red')\n",
    "plt.bar(bin_edges[:-1], ratios, width=np.diff(bin_edges), color='mediumblue', align=\"edge\")\n",
    "plt.legend([r'$\\Gamma(k,\\theta)$', 'data'])\n",
    "plt.ylabel('p(x)')\n",
    "plt.xlabel('x')\n",
    "# plt.savefig('../images/3d.png')\n",
    "plt.show()"
   ]
  },
  {
   "cell_type": "markdown",
   "id": "5b6bfc98",
   "metadata": {},
   "source": [
    "## Task E"
   ]
  },
  {
   "cell_type": "markdown",
   "id": "d6cfd6ce",
   "metadata": {},
   "source": [
    "Likelihood of an assumed dataset $\\mathcal{L}(\\lambda_0 \\mid S) := P_{\\lambda_0}[S] = \\prod_{i=1}^{n} P_{\\lambda_0}[X_i]$ <br> <br>\n",
    "Average log-likelihood $\\ell(\\theta \\mid S) := \\frac{\\log \\mathcal{L}(\\theta \\mid S)}{n}$"
   ]
  },
  {
   "cell_type": "code",
   "execution_count": 16,
   "id": "8b538314",
   "metadata": {},
   "outputs": [
    {
     "data": {
      "text/plain": [
       "-2.157081510817058"
      ]
     },
     "execution_count": 16,
     "metadata": {},
     "output_type": "execute_result"
    }
   ],
   "source": [
    "binom_likelihood = np.sum(binom.logpmf(np.round(data), n, p))/length\n",
    "binom_likelihood"
   ]
  },
  {
   "cell_type": "code",
   "execution_count": 17,
   "id": "c6cd55c3",
   "metadata": {},
   "outputs": [
    {
     "data": {
      "text/plain": [
       "-2.160862236702509"
      ]
     },
     "execution_count": 17,
     "metadata": {},
     "output_type": "execute_result"
    }
   ],
   "source": [
    "gaussian_likelihood = np.sum(gamma.logpdf(data, k, scale=theta))/length\n",
    "gaussian_likelihood"
   ]
  },
  {
   "cell_type": "markdown",
   "id": "b88dd6f1",
   "metadata": {},
   "source": [
    "Binomial Distribution has a higher likelihood than Gaussian Distribution. Hence the Binomial Distribution was a better fit."
   ]
  },
  {
   "cell_type": "markdown",
   "id": "cb190f68",
   "metadata": {},
   "source": [
    "## Task F"
   ]
  },
  {
   "cell_type": "code",
   "execution_count": 18,
   "id": "907c55cf",
   "metadata": {},
   "outputs": [
    {
     "data": {
      "text/plain": [
       "360.57128675389527"
      ]
     },
     "execution_count": 18,
     "metadata": {},
     "output_type": "execute_result"
    }
   ],
   "source": [
    "moment3 = np.sum(data**3)/length\n",
    "moment3"
   ]
  },
  {
   "cell_type": "code",
   "execution_count": 19,
   "id": "7815bea6",
   "metadata": {},
   "outputs": [
    {
     "data": {
      "text/plain": [
       "2968.1587456036787"
      ]
     },
     "execution_count": 19,
     "metadata": {},
     "output_type": "execute_result"
    }
   ],
   "source": [
    "moment4 = np.sum(data**4)/length\n",
    "moment4"
   ]
  },
  {
   "cell_type": "markdown",
   "id": "8091516c",
   "metadata": {},
   "source": [
    "Given \n",
    "<div style='text-align: center;'>\n",
    "    $\\mu_1^{gmm} = p_1 \\mu_1 + p_2 \\mu_2$ <br>\n",
    "    $\\mu_2^{gmm} = p_1 (\\sigma_1^2 + \\mu_1^2 ) + p_2 (\\sigma_2^2 + \\mu_2^2)$ <br>\n",
    "    $\\mu_3^{gmm} = p_1 (\\mu_1^3 + 3\\mu_1 \\sigma_1^2 ) + p_2 (\\mu_2^3 + 3\\mu_2 \\sigma_2^2)$ <br>\n",
    "    $\\mu_4^{gmm} = p_1 (\\mu_1^4 + 6\\mu_1^2 \\sigma_1^2 + 3\\sigma_1^4 ) + p_2 (\\mu_2^4 + 6\\mu_2^2 \\sigma_2^2 + 3\\sigma_2^4)$\n",
    "</div>\n",
    "Using the equations to approximate $(\\mu_1^\\ast, p_1^\\ast, \\mu_2^\\ast, p_2^\\ast)$"
   ]
  },
  {
   "cell_type": "code",
   "execution_count": 20,
   "id": "bec1c055",
   "metadata": {},
   "outputs": [],
   "source": [
    "def gaussian_mixture_app(x):\n",
    "    return [x[1]*x[0]+x[3]*x[2] - moment1,\n",
    "            x[1]*(1+x[0]*x[0]) + x[3]*(1+x[2]*x[2]) - moment2,\n",
    "            x[1]*(x[0]*x[0]*x[0] + 3*x[0]) + x[3]*(x[2]*x[2]*x[2] + 3*x[2]) - moment3,\n",
    "            x[1]*(x[0]*x[0]*x[0]*x[0] + 6*x[0]*x[0] + 3) + x[3]*(x[2]*x[2]*x[2]*x[2] + 6*x[2]*x[2] + 3) - moment4]"
   ]
  },
  {
   "cell_type": "code",
   "execution_count": 21,
   "id": "670c15ae",
   "metadata": {},
   "outputs": [
    {
     "name": "stderr",
     "output_type": "stream",
     "text": [
      "/usr/lib/python3/dist-packages/scipy/optimize/_minpack_py.py:175: RuntimeWarning: The iteration is not making good progress, as measured by the \n",
      "  improvement from the last ten iterations.\n",
      "  warnings.warn(msg, RuntimeWarning)\n"
     ]
    },
    {
     "data": {
      "text/plain": [
       "(5.129442774945635, 0.6118628674761679, 8.774442386057544, 0.38265742239756445)"
      ]
     },
     "execution_count": 21,
     "metadata": {},
     "output_type": "execute_result"
    }
   ],
   "source": [
    "m1, p1, m2, p2 = fsolve(gaussian_mixture_app, [1, 1, 1, 1])\n",
    "m3 = 0\n",
    "while (m1 != m3):\n",
    "    m3 = m1\n",
    "    m1, p1, m2, p2 = fsolve(gaussian_mixture_app, [m1, p1, m2, p2])\n",
    "m1, p1, m2, p2"
   ]
  },
  {
   "cell_type": "markdown",
   "id": "5dca2b63",
   "metadata": {},
   "source": [
    "$\\mu_1^\\ast = 5.129442774945635, p_1^\\ast = 0.6118628674761679, \\mu_2^\\ast = 8.774442386057544$ and $p_2^\\ast = 0.38265742239756445$"
   ]
  },
  {
   "cell_type": "code",
   "execution_count": 37,
   "id": "233e5975",
   "metadata": {},
   "outputs": [],
   "source": [
    "x = np.linspace(0, 30, 1000)\n",
    "gaussian_mixture = p1 * norm.pdf(x, m1) + p2 * norm.pdf(x, m2)"
   ]
  },
  {
   "cell_type": "code",
   "execution_count": 38,
   "id": "d551a3cb",
   "metadata": {},
   "outputs": [
    {
     "data": {
      "image/png": "[encoded data removed]",
      "text/plain": [
       "<Figure size 432x288 with 1 Axes>"
      ]
     },
     "metadata": {
      "needs_background": "light"
     },
     "output_type": "display_data"
    }
   ],
   "source": [
    "plt.plot(x, gaussian_mixture, color='red')\n",
    "plt.bar(bin_edges[:-1], ratios, width=np.diff(bin_edges), color='mediumblue', align=\"edge\")\n",
    "plt.legend(['$p_1N(\\mu_1, 1) + p_2N(\\mu_2, 1)$', 'data'])\n",
    "plt.ylabel('p(x)')\n",
    "plt.xlabel('x')\n",
    "# plt.savefig('../images/3f.png')\n",
    "plt.show()"
   ]
  },
  {
   "cell_type": "code",
   "execution_count": null,
   "id": "753578ea",
   "metadata": {},
   "outputs": [],
   "source": []
  }
 ],
 "metadata": {
  "kernelspec": {
   "display_name": "Python 3 (ipykernel)",
   "language": "python",
   "name": "python3"
  },
  "language_info": {
   "codemirror_mode": {
    "name": "ipython",
    "version": 3
   },
   "file_extension": ".py",
   "mimetype": "text/x-python",
   "name": "python",
   "nbconvert_exporter": "python",
   "pygments_lexer": "ipython3",
   "version": "3.10.12"
  }
 },
 "nbformat": 4,
 "nbformat_minor": 5
}
