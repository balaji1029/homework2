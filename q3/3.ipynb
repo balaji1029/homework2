{
 "cells": [
  {
   "cell_type": "markdown",
   "id": "01d74875",
   "metadata": {},
   "source": [
    "# Fitting Data"
   ]
  },
  {
   "cell_type": "markdown",
   "id": "41fccba2",
   "metadata": {},
   "source": [
    "Imports used..."
   ]
  },
  {
   "cell_type": "code",
   "execution_count": 1,
   "id": "38356e79",
   "metadata": {},
   "outputs": [
    {
     "name": "stderr",
     "output_type": "stream",
     "text": [
      "/usr/lib/python3/dist-packages/scipy/__init__.py:146: UserWarning: A NumPy version >=1.17.3 and <1.25.0 is required for this version of SciPy (detected version 1.26.4\n",
      "  warnings.warn(f\"A NumPy version >={np_minversion} and <{np_maxversion}\"\n"
     ]
    }
   ],
   "source": [
    "import matplotlib.pyplot as plt\n",
    "import numpy as np\n",
    "import pandas as pd\n",
    "from scipy.optimize import fsolve\n",
    "from scipy.stats import binom\n",
    "from scipy.stats import gamma\n",
    "from scipy.stats import norm\n",
    "from scipy.special import comb"
   ]
  },
  {
   "cell_type": "markdown",
   "id": "53052065",
   "metadata": {},
   "source": [
    "Reading the data from `3.data`"
   ]
  },
  {
   "cell_type": "code",
   "execution_count": 4,
   "id": "58b9b021",
   "metadata": {},
   "outputs": [
    {
     "ename": "FileNotFoundError",
     "evalue": "[Errno 2] No such file or directory: '3.data'",
     "output_type": "error",
     "traceback": [
      "\u001b[0;31m---------------------------------------------------------------------------\u001b[0m",
      "\u001b[0;31mFileNotFoundError\u001b[0m                         Traceback (most recent call last)",
      "\u001b[0;32m/tmp/ipykernel_37922/337423802.py\u001b[0m in \u001b[0;36m<module>\u001b[0;34m\u001b[0m\n\u001b[0;32m----> 1\u001b[0;31m \u001b[0mdata\u001b[0m \u001b[0;34m=\u001b[0m \u001b[0mnp\u001b[0m\u001b[0;34m.\u001b[0m\u001b[0marray\u001b[0m\u001b[0;34m(\u001b[0m\u001b[0mpd\u001b[0m\u001b[0;34m.\u001b[0m\u001b[0mread_csv\u001b[0m\u001b[0;34m(\u001b[0m\u001b[0;34m'3.data'\u001b[0m\u001b[0;34m)\u001b[0m\u001b[0;34m)\u001b[0m\u001b[0;34m\u001b[0m\u001b[0;34m\u001b[0m\u001b[0m\n\u001b[0m\u001b[1;32m      2\u001b[0m \u001b[0mlength\u001b[0m \u001b[0;34m=\u001b[0m \u001b[0mnp\u001b[0m\u001b[0;34m.\u001b[0m\u001b[0mshape\u001b[0m\u001b[0;34m(\u001b[0m\u001b[0mdata\u001b[0m\u001b[0;34m)\u001b[0m\u001b[0;34m[\u001b[0m\u001b[0;36m0\u001b[0m\u001b[0;34m]\u001b[0m\u001b[0;34m\u001b[0m\u001b[0;34m\u001b[0m\u001b[0m\n",
      "\u001b[0;32m~/.local/lib/python3.10/site-packages/pandas/io/parsers/readers.py\u001b[0m in \u001b[0;36mread_csv\u001b[0;34m(filepath_or_buffer, sep, delimiter, header, names, index_col, usecols, dtype, engine, converters, true_values, false_values, skipinitialspace, skiprows, skipfooter, nrows, na_values, keep_default_na, na_filter, verbose, skip_blank_lines, parse_dates, infer_datetime_format, keep_date_col, date_parser, date_format, dayfirst, cache_dates, iterator, chunksize, compression, thousands, decimal, lineterminator, quotechar, quoting, doublequote, escapechar, comment, encoding, encoding_errors, dialect, on_bad_lines, delim_whitespace, low_memory, memory_map, float_precision, storage_options, dtype_backend)\u001b[0m\n\u001b[1;32m   1024\u001b[0m     \u001b[0mkwds\u001b[0m\u001b[0;34m.\u001b[0m\u001b[0mupdate\u001b[0m\u001b[0;34m(\u001b[0m\u001b[0mkwds_defaults\u001b[0m\u001b[0;34m)\u001b[0m\u001b[0;34m\u001b[0m\u001b[0;34m\u001b[0m\u001b[0m\n\u001b[1;32m   1025\u001b[0m \u001b[0;34m\u001b[0m\u001b[0m\n\u001b[0;32m-> 1026\u001b[0;31m     \u001b[0;32mreturn\u001b[0m \u001b[0m_read\u001b[0m\u001b[0;34m(\u001b[0m\u001b[0mfilepath_or_buffer\u001b[0m\u001b[0;34m,\u001b[0m \u001b[0mkwds\u001b[0m\u001b[0;34m)\u001b[0m\u001b[0;34m\u001b[0m\u001b[0;34m\u001b[0m\u001b[0m\n\u001b[0m\u001b[1;32m   1027\u001b[0m \u001b[0;34m\u001b[0m\u001b[0m\n\u001b[1;32m   1028\u001b[0m \u001b[0;34m\u001b[0m\u001b[0m\n",
      "\u001b[0;32m~/.local/lib/python3.10/site-packages/pandas/io/parsers/readers.py\u001b[0m in \u001b[0;36m_read\u001b[0;34m(filepath_or_buffer, kwds)\u001b[0m\n\u001b[1;32m    618\u001b[0m \u001b[0;34m\u001b[0m\u001b[0m\n\u001b[1;32m    619\u001b[0m     \u001b[0;31m# Create the parser.\u001b[0m\u001b[0;34m\u001b[0m\u001b[0;34m\u001b[0m\u001b[0m\n\u001b[0;32m--> 620\u001b[0;31m     \u001b[0mparser\u001b[0m \u001b[0;34m=\u001b[0m \u001b[0mTextFileReader\u001b[0m\u001b[0;34m(\u001b[0m\u001b[0mfilepath_or_buffer\u001b[0m\u001b[0;34m,\u001b[0m \u001b[0;34m**\u001b[0m\u001b[0mkwds\u001b[0m\u001b[0;34m)\u001b[0m\u001b[0;34m\u001b[0m\u001b[0;34m\u001b[0m\u001b[0m\n\u001b[0m\u001b[1;32m    621\u001b[0m \u001b[0;34m\u001b[0m\u001b[0m\n\u001b[1;32m    622\u001b[0m     \u001b[0;32mif\u001b[0m \u001b[0mchunksize\u001b[0m \u001b[0;32mor\u001b[0m \u001b[0miterator\u001b[0m\u001b[0;34m:\u001b[0m\u001b[0;34m\u001b[0m\u001b[0;34m\u001b[0m\u001b[0m\n",
      "\u001b[0;32m~/.local/lib/python3.10/site-packages/pandas/io/parsers/readers.py\u001b[0m in \u001b[0;36m__init__\u001b[0;34m(self, f, engine, **kwds)\u001b[0m\n\u001b[1;32m   1618\u001b[0m \u001b[0;34m\u001b[0m\u001b[0m\n\u001b[1;32m   1619\u001b[0m         \u001b[0mself\u001b[0m\u001b[0;34m.\u001b[0m\u001b[0mhandles\u001b[0m\u001b[0;34m:\u001b[0m \u001b[0mIOHandles\u001b[0m \u001b[0;34m|\u001b[0m \u001b[0;32mNone\u001b[0m \u001b[0;34m=\u001b[0m \u001b[0;32mNone\u001b[0m\u001b[0;34m\u001b[0m\u001b[0;34m\u001b[0m\u001b[0m\n\u001b[0;32m-> 1620\u001b[0;31m         \u001b[0mself\u001b[0m\u001b[0;34m.\u001b[0m\u001b[0m_engine\u001b[0m \u001b[0;34m=\u001b[0m \u001b[0mself\u001b[0m\u001b[0;34m.\u001b[0m\u001b[0m_make_engine\u001b[0m\u001b[0;34m(\u001b[0m\u001b[0mf\u001b[0m\u001b[0;34m,\u001b[0m \u001b[0mself\u001b[0m\u001b[0;34m.\u001b[0m\u001b[0mengine\u001b[0m\u001b[0;34m)\u001b[0m\u001b[0;34m\u001b[0m\u001b[0;34m\u001b[0m\u001b[0m\n\u001b[0m\u001b[1;32m   1621\u001b[0m \u001b[0;34m\u001b[0m\u001b[0m\n\u001b[1;32m   1622\u001b[0m     \u001b[0;32mdef\u001b[0m \u001b[0mclose\u001b[0m\u001b[0;34m(\u001b[0m\u001b[0mself\u001b[0m\u001b[0;34m)\u001b[0m \u001b[0;34m->\u001b[0m \u001b[0;32mNone\u001b[0m\u001b[0;34m:\u001b[0m\u001b[0;34m\u001b[0m\u001b[0;34m\u001b[0m\u001b[0m\n",
      "\u001b[0;32m~/.local/lib/python3.10/site-packages/pandas/io/parsers/readers.py\u001b[0m in \u001b[0;36m_make_engine\u001b[0;34m(self, f, engine)\u001b[0m\n\u001b[1;32m   1878\u001b[0m                 \u001b[0;32mif\u001b[0m \u001b[0;34m\"b\"\u001b[0m \u001b[0;32mnot\u001b[0m \u001b[0;32min\u001b[0m \u001b[0mmode\u001b[0m\u001b[0;34m:\u001b[0m\u001b[0;34m\u001b[0m\u001b[0;34m\u001b[0m\u001b[0m\n\u001b[1;32m   1879\u001b[0m                     \u001b[0mmode\u001b[0m \u001b[0;34m+=\u001b[0m \u001b[0;34m\"b\"\u001b[0m\u001b[0;34m\u001b[0m\u001b[0;34m\u001b[0m\u001b[0m\n\u001b[0;32m-> 1880\u001b[0;31m             self.handles = get_handle(\n\u001b[0m\u001b[1;32m   1881\u001b[0m                 \u001b[0mf\u001b[0m\u001b[0;34m,\u001b[0m\u001b[0;34m\u001b[0m\u001b[0;34m\u001b[0m\u001b[0m\n\u001b[1;32m   1882\u001b[0m                 \u001b[0mmode\u001b[0m\u001b[0;34m,\u001b[0m\u001b[0;34m\u001b[0m\u001b[0;34m\u001b[0m\u001b[0m\n",
      "\u001b[0;32m~/.local/lib/python3.10/site-packages/pandas/io/common.py\u001b[0m in \u001b[0;36mget_handle\u001b[0;34m(path_or_buf, mode, encoding, compression, memory_map, is_text, errors, storage_options)\u001b[0m\n\u001b[1;32m    871\u001b[0m         \u001b[0;32mif\u001b[0m \u001b[0mioargs\u001b[0m\u001b[0;34m.\u001b[0m\u001b[0mencoding\u001b[0m \u001b[0;32mand\u001b[0m \u001b[0;34m\"b\"\u001b[0m \u001b[0;32mnot\u001b[0m \u001b[0;32min\u001b[0m \u001b[0mioargs\u001b[0m\u001b[0;34m.\u001b[0m\u001b[0mmode\u001b[0m\u001b[0;34m:\u001b[0m\u001b[0;34m\u001b[0m\u001b[0;34m\u001b[0m\u001b[0m\n\u001b[1;32m    872\u001b[0m             \u001b[0;31m# Encoding\u001b[0m\u001b[0;34m\u001b[0m\u001b[0;34m\u001b[0m\u001b[0m\n\u001b[0;32m--> 873\u001b[0;31m             handle = open(\n\u001b[0m\u001b[1;32m    874\u001b[0m                 \u001b[0mhandle\u001b[0m\u001b[0;34m,\u001b[0m\u001b[0;34m\u001b[0m\u001b[0;34m\u001b[0m\u001b[0m\n\u001b[1;32m    875\u001b[0m                 \u001b[0mioargs\u001b[0m\u001b[0;34m.\u001b[0m\u001b[0mmode\u001b[0m\u001b[0;34m,\u001b[0m\u001b[0;34m\u001b[0m\u001b[0;34m\u001b[0m\u001b[0m\n",
      "\u001b[0;31mFileNotFoundError\u001b[0m: [Errno 2] No such file or directory: '3.data'"
     ]
    }
   ],
   "source": [
    "data = np.array(pd.read_csv('3.data'))\n",
    "length = np.shape(data)[0]"
   ]
  },
  {
   "cell_type": "markdown",
   "id": "fe1f8f21",
   "metadata": {},
   "source": [
    "## Task A"
   ]
  },
  {
   "cell_type": "markdown",
   "id": "c73a9582",
   "metadata": {},
   "source": [
    "Calculating the $\\mu_1$ and $\\mu_2$"
   ]
  },
  {
   "cell_type": "code",
   "execution_count": 2,
   "id": "3bce491f",
   "metadata": {},
   "outputs": [
    {
     "ename": "NameError",
     "evalue": "name 'data' is not defined",
     "output_type": "error",
     "traceback": [
      "\u001b[0;31m---------------------------------------------------------------------------\u001b[0m",
      "\u001b[0;31mNameError\u001b[0m                                 Traceback (most recent call last)",
      "\u001b[0;32m/tmp/ipykernel_37922/247043614.py\u001b[0m in \u001b[0;36m<module>\u001b[0;34m\u001b[0m\n\u001b[0;32m----> 1\u001b[0;31m \u001b[0mmoment1\u001b[0m \u001b[0;34m=\u001b[0m \u001b[0mnp\u001b[0m\u001b[0;34m.\u001b[0m\u001b[0msum\u001b[0m\u001b[0;34m(\u001b[0m\u001b[0mdata\u001b[0m\u001b[0;34m)\u001b[0m\u001b[0;34m/\u001b[0m\u001b[0mlength\u001b[0m\u001b[0;34m\u001b[0m\u001b[0;34m\u001b[0m\u001b[0m\n\u001b[0m\u001b[1;32m      2\u001b[0m \u001b[0mmoment1\u001b[0m\u001b[0;34m\u001b[0m\u001b[0;34m\u001b[0m\u001b[0m\n",
      "\u001b[0;31mNameError\u001b[0m: name 'data' is not defined"
     ]
    }
   ],
   "source": [
    "moment1 = np.sum(data)/length\n",
    "moment1"
   ]
  },
  {
   "cell_type": "code",
   "execution_count": 3,
   "id": "ea50f2a3",
   "metadata": {},
   "outputs": [
    {
     "ename": "NameError",
     "evalue": "name 'data' is not defined",
     "output_type": "error",
     "traceback": [
      "\u001b[0;31m---------------------------------------------------------------------------\u001b[0m",
      "\u001b[0;31mNameError\u001b[0m                                 Traceback (most recent call last)",
      "\u001b[0;32m/tmp/ipykernel_37922/4090813824.py\u001b[0m in \u001b[0;36m<module>\u001b[0;34m\u001b[0m\n\u001b[0;32m----> 1\u001b[0;31m \u001b[0mmoment2\u001b[0m \u001b[0;34m=\u001b[0m \u001b[0mnp\u001b[0m\u001b[0;34m.\u001b[0m\u001b[0msum\u001b[0m\u001b[0;34m(\u001b[0m\u001b[0mdata\u001b[0m\u001b[0;34m**\u001b[0m\u001b[0;36m2\u001b[0m\u001b[0;34m)\u001b[0m\u001b[0;34m/\u001b[0m\u001b[0mlength\u001b[0m\u001b[0;34m\u001b[0m\u001b[0;34m\u001b[0m\u001b[0m\n\u001b[0m\u001b[1;32m      2\u001b[0m \u001b[0mmoment2\u001b[0m\u001b[0;34m\u001b[0m\u001b[0;34m\u001b[0m\u001b[0m\n",
      "\u001b[0;31mNameError\u001b[0m: name 'data' is not defined"
     ]
    }
   ],
   "source": [
    "moment2 = np.sum(data**2)/length\n",
    "moment2"
   ]
  },
  {
   "cell_type": "markdown",
   "id": "c630d9c4",
   "metadata": {},
   "source": [
    "$\\mu_1 = 6.496121071257862$ and $\\mu_2 = 46.55447234919477$"
   ]
  },
  {
   "cell_type": "markdown",
   "id": "b4ac4b59",
   "metadata": {},
   "source": [
    "## Task B"
   ]
  },
  {
   "cell_type": "markdown",
   "id": "b95e0550",
   "metadata": {},
   "source": [
    "Dividing the data into bins and plotting them as a histogram gives the following plot"
   ]
  },
  {
   "cell_type": "code",
   "execution_count": 363,
   "id": "0aa9acaa",
   "metadata": {},
   "outputs": [
    {
     "data": {
      "image/png": "[encoded data removed]",
      "text/plain": [
       "<Figure size 432x288 with 1 Axes>"
      ]
     },
     "metadata": {
      "needs_background": "light"
     },
     "output_type": "display_data"
    }
   ],
   "source": [
    "counts, bin_edges = np.histogram(data, bins=100)\n",
    "ratios = counts/counts.sum()*7.92\n",
    "plt.bar(bin_edges[:-1], ratios, width=np.diff(bin_edges), color='mediumblue', align=\"edge\")\n",
    "plt.show()"
   ]
  },
  {
   "cell_type": "markdown",
   "id": "0e9f53c7",
   "metadata": {},
   "source": [
    "## Task C"
   ]
  },
  {
   "cell_type": "markdown",
   "id": "0f452087",
   "metadata": {},
   "source": [
    "For $X \\sim Bin(n, p)$, <br> <br>\n",
    "<div style='text-align: center;'>\n",
    "    $\\mu_1^{Bin} = \\sum_{r=0}^{n} \\binom{n}{r}p^r (1-p)^{n-r} r$ <br>\n",
    "    $\\mu_1^{Bin} = np$ <br> <br>\n",
    "    $\\mu_2^{Bin} = \\sum_{r=0}^{n} \\binom{n}{r}p^r (1-p)^{n-r} r^2$ <br>\n",
    "    $\\mu_2^{Bin} = np\\sum_{r=1}^{n} \\binom{n-1}{r-1}p^{r-1} (1-p)^{n-r} r$ <br>\n",
    "    $\\mu_2^{Bin} = np\\sum_{r=0}^{n-1} \\binom{n-1}{r}p^{r} (1-p)^{n-r-1} (r+1)$ <br>\n",
    "    $\\mu_2^{Bin} = n(n-1)p^2 + np\\sum_{r=0}^{n-1} \\binom{n-1}{r}p^{r} (1-p)^{n-r-1}$ <br>\n",
    "    $\\mu_2^{Bin} = n(n-1)p^2 + np$\n",
    "</div> <br>\n",
    "$\\implies \\mu_1^{Bin} = np$ and $\\mu_2^{Bin} = n(n-1)p^2 + np$ <br>\n",
    "Using the equations to approximate $\\left(n^\\ast, p^\\ast\\right)$"
   ]
  },
  {
   "cell_type": "code",
   "execution_count": 369,
   "id": "020e0f82",
   "metadata": {},
   "outputs": [],
   "source": [
    "def binom_app(x):\n",
    "    return [x[0]*x[1] - moment1,\n",
    "            x[0]*(x[0]-1)*x[1]*x[1] + x[0]*x[1] - moment2]"
   ]
  },
  {
   "cell_type": "code",
   "execution_count": 371,
   "id": "aadc06f4",
   "metadata": {},
   "outputs": [
    {
     "data": {
      "text/plain": [
       "([0.09623664811258603, 1.3241066553116667],\n",
       " [0.4258545340811084, 5.999642571294494],\n",
       " (20, 0.32961788596852243))"
      ]
     },
     "execution_count": 371,
     "metadata": {},
     "output_type": "execute_result"
    }
   ],
   "source": [
    "n, p = tuple(fsolve(binom_app, [1,1]))\n",
    "n = round(n)\n",
    "func([n, p]), func([n+1, p]), (n, p)"
   ]
  },
  {
   "cell_type": "markdown",
   "id": "396cef34",
   "metadata": {},
   "source": [
    "$n^\\ast = 20$ and $p^\\ast = 0.32961788596852243$ approximate the moments better."
   ]
  },
  {
   "cell_type": "code",
   "execution_count": 368,
   "id": "d6812ff6",
   "metadata": {},
   "outputs": [],
   "source": [
    "x = np.linspace(0, 30, 31)\n",
    "binom_data = binom.pmf(x, n, p)"
   ]
  },
  {
   "cell_type": "code",
   "execution_count": 361,
   "id": "bfda90ca",
   "metadata": {},
   "outputs": [
    {
     "data": {
      "image/png": "[encoded data removed]",
      "text/plain": [
       "<Figure size 432x288 with 1 Axes>"
      ]
     },
     "metadata": {
      "needs_background": "light"
     },
     "output_type": "display_data"
    }
   ],
   "source": [
    "plt.plot(x, binom_data, color='red')\n",
    "plt.bar(bin_edges[:-1], ratios, width=np.diff(bin_edges), color='mediumblue', align=\"edge\")\n",
    "plt.show()"
   ]
  },
  {
   "cell_type": "markdown",
   "id": "1f1128fd",
   "metadata": {},
   "source": [
    "## Task D"
   ]
  },
  {
   "cell_type": "markdown",
   "id": "f9bd8d1a",
   "metadata": {},
   "source": [
    "For $X \\sim Gamma(k, \\theta)$, <br><br>\n",
    "<div style='text-align: center;'>\n",
    "    $\\mu_1^{Gamma} = \\int_0^\\infty f(x;k,\\theta)xdx$ <br>\n",
    "    $\\mu_1^{Gamma} = \\int_0^\\infty \\frac{1}{\\theta^k \\Gamma(k)} x^{k-1} e^{-\\frac{x}{\\theta}}xdx$ <br>\n",
    "    $\\mu_1^{Gamma} = \\frac{\\theta^{k+1}\\Gamma(k+1)}{\\theta^k\\Gamma(k)}$ <br>\n",
    "    $\\mu_1^{Gamma} = k\\theta$\n",
    "</div> <br>\n",
    "<div style='text-align: center;'>\n",
    "    $\\mu_2^{Gamma} = \\int_0^\\infty f(x;k,\\theta)x^2dx$ <br>\n",
    "    $\\mu_2^{Gamma} = \\int_0^\\infty \\frac{1}{\\theta^k \\Gamma(k)} x^{k-1} e^{-\\frac{x}{\\theta}}x^2dx$ <br>\n",
    "    $\\mu_2^{Gamma} = \\frac{\\theta^{k+2}\\Gamma(k+2)}{\\theta^k\\Gamma(k)}$ <br>\n",
    "    $\\mu_2^{Gamma} = k(k+1)\\theta^2$\n",
    "</div> <br>\n",
    "$\\implies \\mu_1^{Gamma} = k\\theta$ and $\\mu_2^{Gamma} = k(k+1)\\theta^2$ <br>\n",
    "Using the equations to approximate $\\left(n^\\ast, p^\\ast\\right)$"
   ]
  },
  {
   "cell_type": "code",
   "execution_count": 372,
   "id": "f0db6b15",
   "metadata": {},
   "outputs": [],
   "source": [
    "def gamma_app(x):\n",
    "    return [x[0]*x[1] - moment1,\n",
    "            x[0]*(x[0]+1)*x[1]*x[1] - moment2]"
   ]
  },
  {
   "cell_type": "code",
   "execution_count": 373,
   "id": "5fc82bf9",
   "metadata": {},
   "outputs": [
    {
     "data": {
      "text/plain": [
       "(9.690176595240318, 0.6703821140314945)"
      ]
     },
     "execution_count": 373,
     "metadata": {},
     "output_type": "execute_result"
    }
   ],
   "source": [
    "k, theta = fsolve(gamma_app, [1, 1])\n",
    "k, theta"
   ]
  },
  {
   "cell_type": "markdown",
   "id": "a01cf4d4",
   "metadata": {},
   "source": [
    "$k^\\ast = 9.690176595240318$ and ${\\theta}^{\\ast} = 0.6703821140314945$"
   ]
  },
  {
   "cell_type": "code",
   "execution_count": 389,
   "id": "dad91c16",
   "metadata": {},
   "outputs": [],
   "source": [
    "x1 = np.linspace(0, 30, 1000)\n",
    "y = gamma.pdf(x1, k, scale=theta)"
   ]
  },
  {
   "cell_type": "code",
   "execution_count": 390,
   "id": "3a920621",
   "metadata": {},
   "outputs": [
    {
     "data": {
      "image/png": "[encoded data removed]",
      "text/plain": [
       "<Figure size 432x288 with 1 Axes>"
      ]
     },
     "metadata": {
      "needs_background": "light"
     },
     "output_type": "display_data"
    }
   ],
   "source": [
    "plt.plot(x1, y, color='red')\n",
    "plt.bar(bin_edges[:-1], ratios, width=np.diff(bin_edges), color='mediumblue', align=\"edge\")\n",
    "plt.yticks(np.linspace(0, 0.2, 9))\n",
    "plt.ylabel('p(x)')\n",
    "plt.show()"
   ]
  },
  {
   "cell_type": "markdown",
   "id": "1a0735ee",
   "metadata": {},
   "source": [
    "## Task E"
   ]
  },
  {
   "cell_type": "markdown",
   "id": "98c350c8",
   "metadata": {},
   "source": [
    "Likelihood of an assumed dataset $\\mathcal{L}(\\lambda_0 \\mid S) := P_{\\lambda_0}[S] = \\prod_{i=1}^{n} P_{\\lambda_0}[X_i]$ <br> <br>\n",
    "Average log-likelihood $\\ell(\\theta \\mid S) := \\frac{\\log \\mathcal{L}(\\theta \\mid S)}{n}$"
   ]
  },
  {
   "cell_type": "code",
   "execution_count": 393,
   "id": "78399064",
   "metadata": {},
   "outputs": [
    {
     "data": {
      "text/plain": [
       "-2.157081510817058"
      ]
     },
     "execution_count": 393,
     "metadata": {},
     "output_type": "execute_result"
    }
   ],
   "source": [
    "binom_likelihood = np.sum(binom.logpmf(np.round(data), n, p))/length\n",
    "binom_likelihood"
   ]
  },
  {
   "cell_type": "code",
   "execution_count": 394,
   "id": "0659dee0",
   "metadata": {},
   "outputs": [
    {
     "data": {
      "text/plain": [
       "-2.1608622367025263"
      ]
     },
     "execution_count": 394,
     "metadata": {},
     "output_type": "execute_result"
    }
   ],
   "source": [
    "gaussian_likelihood = np.sum(gamma.logpdf(data, k, scale=theta))/length\n",
    "gaussian_likelihood"
   ]
  },
  {
   "cell_type": "markdown",
   "id": "506c4423",
   "metadata": {},
   "source": [
    "Binomial Distribution has a higher likelihood than Gaussian Distribution. Hence the Binomial Distribution was a better fit."
   ]
  },
  {
   "cell_type": "markdown",
   "id": "0fc708b0",
   "metadata": {},
   "source": [
    "## Task F"
   ]
  },
  {
   "cell_type": "code",
   "execution_count": 395,
   "id": "c78ab563",
   "metadata": {},
   "outputs": [
    {
     "data": {
      "text/plain": [
       "360.57128675389527"
      ]
     },
     "execution_count": 395,
     "metadata": {},
     "output_type": "execute_result"
    }
   ],
   "source": [
    "moment3 = np.sum(data**3)/length\n",
    "moment3"
   ]
  },
  {
   "cell_type": "code",
   "execution_count": 279,
   "id": "cecc42b0",
   "metadata": {},
   "outputs": [
    {
     "data": {
      "text/plain": [
       "2968.1587456036787"
      ]
     },
     "execution_count": 279,
     "metadata": {},
     "output_type": "execute_result"
    }
   ],
   "source": [
    "moment4 = np.sum(data**4)/length\n",
    "moment4"
   ]
  },
  {
   "cell_type": "markdown",
   "id": "69ced649",
   "metadata": {},
   "source": [
    "Given \n",
    "<div style='text-align: center;'>\n",
    "    $\\mu_1^{gmm} = p_1 \\mu_1 + p_2 \\mu_2$ <br>\n",
    "    $\\mu_2^{gmm} = p_1 (\\sigma_1^2 + \\mu_1^2 ) + p_2 (\\sigma_2^2 + \\mu_2^2)$ <br>\n",
    "    $\\mu_3^{gmm} = p_1 (\\mu_1^3 + 3\\mu_1 \\sigma_1^2 ) + p_2 (\\mu_2^3 + 3\\mu_2 \\sigma_2^2)$ <br>\n",
    "    $\\mu_4^{gmm} = p_1 (\\mu_1^4 + 6\\mu_1^2 \\sigma_1^2 + 3\\sigma_1^4 ) + p_2 (\\mu_2^4 + 6\\mu_2^2 \\sigma_2^2 + 3\\sigma_2^4)$\n",
    "</div>\n",
    "Using the equations to approximate $(\\mu_1^\\ast, p_1^\\ast, \\mu_2^\\ast, p_2^\\ast)$"
   ]
  },
  {
   "cell_type": "code",
   "execution_count": 397,
   "id": "5193e31b",
   "metadata": {},
   "outputs": [],
   "source": [
    "def gaussian_mixture_app(x):\n",
    "    return [x[1]*x[0]+x[3]*x[2] - moment1,\n",
    "            x[1]*(1+x[0]*x[0]) + x[3]*(1+x[2]*x[2]) - moment2,\n",
    "            x[1]*(x[0]*x[0]*x[0] + 3*x[0]) + x[3]*(x[2]*x[2]*x[2] + 3*x[2]) - moment3,\n",
    "            x[1]*(x[0]*x[0]*x[0]*x[0] + 6*x[0]*x[0] + 3) + x[3]*(x[2]*x[2]*x[2]*x[2] + 6*x[2]*x[2] + 3) - moment4]"
   ]
  },
  {
   "cell_type": "code",
   "execution_count": 400,
   "id": "408fab1f",
   "metadata": {},
   "outputs": [
    {
     "data": {
      "text/plain": [
       "(5.129442774945635, 0.6118628674761679, 8.774442386057544, 0.38265742239756445)"
      ]
     },
     "execution_count": 400,
     "metadata": {},
     "output_type": "execute_result"
    }
   ],
   "source": [
    "m1, p1, m2, p2 = fsolve(gaussian_mixture_app, [1, 1, 1, 1])\n",
    "m3 = 0\n",
    "while (m1 != m3):\n",
    "    m3 = m1\n",
    "    m1, p1, m2, p2 = fsolve(gaussian_mixture_app, [m1, p1, m2, p2])\n",
    "m1, p1, m2, p2"
   ]
  },
  {
   "cell_type": "markdown",
   "id": "5ffe584c",
   "metadata": {},
   "source": [
    "$\\mu_1^\\ast = 5.129442774945635, p_1^\\ast = 0.6118628674761679, \\mu_2^\\ast = 8.774442386057544$ and $p_2^\\ast = 0.38265742239756445$"
   ]
  },
  {
   "cell_type": "code",
   "execution_count": 403,
   "id": "de70208a",
   "metadata": {},
   "outputs": [],
   "source": [
    "x = np.linspace(0, 30, 1000)\n",
    "y = p1 * norm.pdf(x, m1) + p2 * norm.pdf(x, m2)"
   ]
  },
  {
   "cell_type": "code",
   "execution_count": 404,
   "id": "9babc56a",
   "metadata": {},
   "outputs": [
    {
     "data": {
      "image/png": "[encoded data removed]",
      "text/plain": [
       "<Figure size 432x288 with 1 Axes>"
      ]
     },
     "metadata": {
      "needs_background": "light"
     },
     "output_type": "display_data"
    }
   ],
   "source": [
    "plt.plot(x, y, color='red')\n",
    "plt.bar(bin_edges[:-1], ratios, width=np.diff(bin_edges), color='mediumblue', align=\"edge\")\n",
    "# plt.yticks(np.linspace(0, 0.2, 9))\n",
    "plt.ylabel('p(x)')\n",
    "plt.show()"
   ]
  },
  {
   "cell_type": "code",
   "execution_count": null,
   "id": "eadfddf0",
   "metadata": {},
   "outputs": [],
   "source": [
    "m1, p1, m2, p2 = fsolve(gaussian_mixture_app, [1, 1, 1, 1])"
   ]
  }
 ],
 "metadata": {
  "kernelspec": {
   "display_name": "Python 3 (ipykernel)",
   "language": "python",
   "name": "python3"
  },
  "language_info": {
   "codemirror_mode": {
    "name": "ipython",
    "version": 3
   },
   "file_extension": ".py",
   "mimetype": "text/x-python",
   "name": "python",
   "nbconvert_exporter": "python",
   "pygments_lexer": "ipython3",
   "version": "3.10.12"
  }
 },
 "nbformat": 4,
 "nbformat_minor": 5
}
